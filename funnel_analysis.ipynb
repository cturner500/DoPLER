{
 "cells": [
  {
   "cell_type": "markdown",
   "metadata": {},
   "source": [
    "# Funnel Analysis \n",
    "\n",
    "## Overview\n",
    "We don't have real longitudinal data, but we have a way of creating a proxy for the same sort of insight. There are questions related to: \n",
    "* longevity: how long been using mobile money\n",
    "* frequency: how often uses mobile money\n",
    "* recency: how recently used mobile money\n",
    "\n",
    "Intuitively, we can imagine cases where individuals learned about mobile money a long time ago (exposure), signed up (enrollment), used the services regularly (engagement) and continue to do so (retention).\n",
    "\n",
    "In this funnel analysis, we see these as progressive steps (e.g.. \"out of those who have heard of mobile money, how many have an account?\"... \"Out of those that have a mobile money account, how many use mobile money services regularly\"). We treat each step as a binary classification problem, and try to find those features and demographics that are predictive of progressing \"to the next stage\" of the funnel.\n",
    "\n",
    "## Data Sources\n",
    "\n",
    "The data source is the Financial Inclusion Insights Data (<a href=\"http://finclusion.org/about/\">http://finclusion.org/about/</a>). \n",
    " \n",
    "  * We consider responses from Uganda, Kenya, and Tanzania, the countries of interest for this project\n",
    "  * We consider only \"wave 3\" questions that relate to these concepts.\n",
    "\n",
    "The source data is in Microsoft XLSX format. Preprocessing steps include format conversion from XLSX to CSV, merging columns for those survey responses that are identical across all countries, and renaming columns to a human readable format. For example: \n",
    "\n",
    "`'MM9' --> 'how_long_using_mobile_money'`\n",
    "\n",
    "\n",
    "## Survey questions\n",
    "\n",
    "We have selected Wave 3 questions that relate to the concepts of interest. We have also broken down survey responses to separate usage of mobile money into \"basic\" and more \"sophisticated\" categories, where the former (\"basic services\") is mostly transferring money, and the later (\"sophisticated services\") includes activities like long-term savings and insurance.\n",
    "\n",
    "Concepts: \n",
    " Exposure\n",
    " Enrollment\n",
    " Usage of basic financial services\n",
    " Usage of sophisticated financial services\n",
    " Recency\n",
    " Longevity\n",
    " Frequency\n",
    " (Retention)\n",
    " \n",
    "The specific questions and responses considered to address each of these concepts are detailed below in the corresponding sections. \n",
    "\n",
    "## Funnel Analysis\n",
    "\n",
    "[Describe the funnel path and flow] \n",
    "\n",
    "[Describe what attributes of respondants are examined at each step] \n",
    "\n",
    "## Results and further information\n",
    "\n",
    "[available in the project deliverable report] \n"
   ]
  },
  {
   "cell_type": "markdown",
   "metadata": {},
   "source": [
    "# --------------------"
   ]
  },
  {
   "cell_type": "code",
   "execution_count": 3,
   "metadata": {
    "collapsed": true
   },
   "outputs": [],
   "source": [
    "%matplotlib inline"
   ]
  },
  {
   "cell_type": "code",
   "execution_count": 4,
   "metadata": {
    "collapsed": false
   },
   "outputs": [
    {
     "name": "stderr",
     "output_type": "stream",
     "text": [
      "/home/aman/anaconda/lib/python2.7/site-packages/pandas/computation/__init__.py:19: UserWarning: The installed version of numexpr 2.4.4 is not supported in pandas and will be not be used\n",
      "\n",
      "  UserWarning)\n",
      "/home/aman/anaconda/lib/python2.7/site-packages/matplotlib/__init__.py:872: UserWarning: axes.color_cycle is deprecated and replaced with axes.prop_cycle; please use the latter.\n",
      "  warnings.warn(self.msg_depr % (key, alt_key))\n"
     ]
    }
   ],
   "source": [
    "import os\n",
    "import pandas as pd\n",
    "import matplotlib.pyplot as plt\n",
    "import seaborn"
   ]
  },
  {
   "cell_type": "code",
   "execution_count": 5,
   "metadata": {
    "collapsed": false
   },
   "outputs": [
    {
     "data": {
      "text/plain": [
       "['fii_csv',\n",
       " 'merged_fii_data_wave3_20160915.csv',\n",
       " 'FII',\n",
       " 'merged_fii_data_wave3_20160910.csv',\n",
       " 'FIndex',\n",
       " 'findex_csv']"
      ]
     },
     "execution_count": 5,
     "metadata": {},
     "output_type": "execute_result"
    }
   ],
   "source": [
    "\"\"\"\n",
    "## Load Data\n",
    "\n",
    " \n",
    "\"\"\"\n",
    "input_data_dir = 'Data/'\n",
    "# os.listdir(input_data_dir)\n",
    "df = pd.DataFrame.from_csv(\n",
    "    os.path.join(input_data_dir, 'merged_fii_data_wave3_20160915.csv'),\n",
    ")"
   ]
  },
  {
   "cell_type": "markdown",
   "metadata": {},
   "source": [
    "## Funnel step: Exposure\n",
    "\n",
    "Survey Questions: \n",
    "\n",
    " * MM1. Have you ever heard of something called Mobile Money? \n"
   ]
  },
  {
   "cell_type": "code",
   "execution_count": null,
   "metadata": {
    "collapsed": true
   },
   "outputs": [],
   "source": [
    "Wave 3 questions (Uganda, Kenya, Tanzania) questions that relate to these concepts.\n",
    "\n",
    "Exposure:\n",
    "MM1. Have you ever heard of something called Mobile Money? \n",
    "\n",
    "Enrollment:\n",
    "MM4. Have you ever used this mobile money service for any financial activity?\n",
    "MM6_n Do you have a registered account (account registered in your name) with [any] mobile money service?\n",
    "+ no answer for MM12 What is the main reason you have never used mobile money services?\n",
    "\n",
    "Usage of Basic Financial Services \n",
    "MM15. Have you ever used a mobile money account to do [any of] the following [basic services]?\n",
    "[1-2] deposit, withdraw\n",
    "[3-10] pay bills\n",
    "[11 - 12] Send, Receive money\n",
    "\n",
    "Usage of sophisticated financial services\n",
    "MM15. Have you ever used a mobile money account to do [any of] the following [sophisticated financial services]?\n",
    "  [16] Insurance\n",
    "  [18, 19, ] long term savings\n",
    "  [20, ] emergency funds\n",
    "  [17] large transactions, regular transactions (like loans, mortgage)\n",
    "\n",
    "Recency:\n",
    "User has used mobile financial services in the recent path\n",
    "MM5_n. Apart from today, when was the last time you conducted any financial activity with [any] mobile money service?\n",
    "MM8_n. Apart from today, when was the last time you conducted any financial activity using these registered accounts?\n",
    "\n",
    "Longevity\n",
    "learned about / signed up for financial services some time ago\n",
    "MM9 For how long have you been using mobile money services?\n",
    "\n",
    "Frequency\n",
    "Uses financial services regularly / frequently\n",
    "MM17. How often do you use mobile money for [any] activity?\n",
    "[could break this down into basic and sophisticated financial activities as well] \n",
    "\n",
    "Retention\n",
    "\n"
   ]
  }
 ],
 "metadata": {
  "kernelspec": {
   "display_name": "Python 2",
   "language": "python",
   "name": "python2"
  },
  "language_info": {
   "codemirror_mode": {
    "name": "ipython",
    "version": 2
   },
   "file_extension": ".py",
   "mimetype": "text/x-python",
   "name": "python",
   "nbconvert_exporter": "python",
   "pygments_lexer": "ipython2",
   "version": "2.7.12"
  }
 },
 "nbformat": 4,
 "nbformat_minor": 0
}
