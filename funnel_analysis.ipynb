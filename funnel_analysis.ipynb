{
 "cells": [
  {
   "cell_type": "markdown",
   "metadata": {},
   "source": [
    "# Funnel Analysis \n",
    "\n",
    "## Overview\n",
    "We don't have real longitudinal data, but we have a way of creating a proxy for the same sort of insight. There are questions related to: \n",
    "* longevity: how long been using mobile money\n",
    "* frequency: how often uses mobile money\n",
    "* recency: how recently used mobile money\n",
    "\n",
    "Intuitively, we can imagine cases where individuals learned about mobile money a long time ago (exposure), signed up (enrollment), used the services regularly (engagement) and continue to do so (retention).\n",
    "\n",
    "In this funnel analysis, we see these as progressive steps (e.g.. \"out of those who have heard of mobile money, how many have an account?\"... \"Out of those that have a mobile money account, how many use mobile money services regularly\"). We treat each step as a binary classification problem, and try to find those features and demographics that are predictive of progressing \"to the next stage\" of the funnel.\n",
    "\n",
    "## Data Sources\n",
    "\n",
    "The data source is the Financial Inclusion Insights Data (<a href=\"http://finclusion.org/about/\">http://finclusion.org/about/</a>). \n",
    " \n",
    "  * We consider responses from Uganda, Kenya, and Tanzania, the countries of interest for this project\n",
    "  * We consider only \"wave 3\" questions that relate to these concepts.\n",
    "  * Wave 3 surveys were conducted in 2015\n",
    "\n",
    "The source data is in Microsoft XLSX format. Preprocessing steps include format conversion from XLSX to CSV, merging columns for those survey responses that are identical across all countries, and renaming columns to a human readable format. For example: \n",
    "\n",
    "`'MM9' --> 'how_long_using_mobile_money'`\n",
    "\n",
    "\n",
    "## Survey questions\n",
    "\n",
    "We have selected Wave 3 questions that relate to the concepts of interest. We have also broken down survey responses to separate usage of mobile money into \"basic\" and more \"sophisticated\" categories, where the former (\"basic services\") is mostly transferring money, and the later (\"sophisticated services\") includes activities like long-term savings and insurance.\n",
    "\n",
    "Concepts: \n",
    " Exposure\n",
    " Enrollment\n",
    " Usage of basic financial services\n",
    " Usage of sophisticated financial services\n",
    " Recency\n",
    " Longevity\n",
    " Frequency\n",
    " (Retention)\n",
    " \n",
    "The specific questions and responses considered to address each of these concepts are detailed below in the corresponding sections. \n",
    "\n",
    "## Funnel Analysis\n",
    "\n",
    "[Describe the funnel path and flow] \n",
    "\n",
    "[Describe what attributes of respondants are examined at each step] \n",
    "\n",
    "## Results and further information\n",
    "\n",
    "[available in the project deliverable report] \n"
   ]
  },
  {
   "cell_type": "markdown",
   "metadata": {},
   "source": [
    "# --------------------"
   ]
  },
  {
   "cell_type": "code",
   "execution_count": 1,
   "metadata": {
    "collapsed": true
   },
   "outputs": [],
   "source": [
    "%matplotlib inline"
   ]
  },
  {
   "cell_type": "code",
   "execution_count": 2,
   "metadata": {
    "collapsed": false
   },
   "outputs": [],
   "source": [
    "import os\n",
    "import pandas as pd\n",
    "import matplotlib.pyplot as plt\n",
    "import seaborn as sns"
   ]
  },
  {
   "cell_type": "code",
   "execution_count": 3,
   "metadata": {
    "collapsed": false
   },
   "outputs": [],
   "source": [
    "\"\"\"\n",
    "## Load Data\n",
    "\n",
    " \n",
    "\"\"\"\n",
    "input_data_dir = 'Data/'\n",
    "# os.listdir(input_data_dir)\n",
    "df = pd.DataFrame.from_csv(\n",
    "    os.path.join(input_data_dir, 'merged_fii_data_wave3_20160915.csv'),\n",
    ")"
   ]
  },
  {
   "cell_type": "code",
   "execution_count": 4,
   "metadata": {
    "collapsed": false
   },
   "outputs": [
    {
     "data": {
      "text/html": [
       "<div>\n",
       "<table border=\"1\" class=\"dataframe\">\n",
       "  <thead>\n",
       "    <tr style=\"text-align: right;\">\n",
       "      <th></th>\n",
       "      <th>country</th>\n",
       "      <th>year_of_birth</th>\n",
       "      <th>gender</th>\n",
       "      <th>marital_status</th>\n",
       "      <th>education_level</th>\n",
       "      <th>heard_of_mobile_money</th>\n",
       "      <th>biggest_challenge_with_mobile_money</th>\n",
       "      <th>reason_never_used_mobile_money</th>\n",
       "      <th>ever_used_mobile_money_for|deposit</th>\n",
       "      <th>ever_used_mobile_money_for|paygovt</th>\n",
       "      <th>...</th>\n",
       "      <th>last_time_financial_activity_using_account|serv2</th>\n",
       "      <th>last_time_financial_activity_using_account|serv3</th>\n",
       "      <th>last_time_financial_activity_using_account|serv4</th>\n",
       "      <th>last_time_financial_activity_using_account|serv5</th>\n",
       "      <th>last_time_financial_activity_using_account|serv6</th>\n",
       "      <th>last_time_financial_activity_using_account|serv7</th>\n",
       "      <th>last_time_financial_activity_using_account|serv8</th>\n",
       "      <th>last_time_financial_activity_using_account|serv9</th>\n",
       "      <th>how_long_using_mobile_money</th>\n",
       "      <th>source_filename</th>\n",
       "    </tr>\n",
       "  </thead>\n",
       "  <tbody>\n",
       "    <tr>\n",
       "      <th>0</th>\n",
       "      <td>nigeria</td>\n",
       "      <td>1993.0</td>\n",
       "      <td>2</td>\n",
       "      <td>1</td>\n",
       "      <td>5</td>\n",
       "      <td>2</td>\n",
       "      <td>NaN</td>\n",
       "      <td>NaN</td>\n",
       "      <td>NaN</td>\n",
       "      <td>NaN</td>\n",
       "      <td>...</td>\n",
       "      <td>NaN</td>\n",
       "      <td>NaN</td>\n",
       "      <td>NaN</td>\n",
       "      <td>NaN</td>\n",
       "      <td>NaN</td>\n",
       "      <td>NaN</td>\n",
       "      <td>NaN</td>\n",
       "      <td>NaN</td>\n",
       "      <td>NaN</td>\n",
       "      <td>fsp_final_nigeria_w3_(public).csv</td>\n",
       "    </tr>\n",
       "    <tr>\n",
       "      <th>1</th>\n",
       "      <td>nigeria</td>\n",
       "      <td>1989.0</td>\n",
       "      <td>1</td>\n",
       "      <td>5</td>\n",
       "      <td>5</td>\n",
       "      <td>2</td>\n",
       "      <td>NaN</td>\n",
       "      <td>NaN</td>\n",
       "      <td>NaN</td>\n",
       "      <td>NaN</td>\n",
       "      <td>...</td>\n",
       "      <td>NaN</td>\n",
       "      <td>NaN</td>\n",
       "      <td>NaN</td>\n",
       "      <td>NaN</td>\n",
       "      <td>NaN</td>\n",
       "      <td>NaN</td>\n",
       "      <td>NaN</td>\n",
       "      <td>NaN</td>\n",
       "      <td>NaN</td>\n",
       "      <td>fsp_final_nigeria_w3_(public).csv</td>\n",
       "    </tr>\n",
       "    <tr>\n",
       "      <th>2</th>\n",
       "      <td>nigeria</td>\n",
       "      <td>1985.0</td>\n",
       "      <td>2</td>\n",
       "      <td>1</td>\n",
       "      <td>5</td>\n",
       "      <td>1</td>\n",
       "      <td>NaN</td>\n",
       "      <td>1.0</td>\n",
       "      <td>NaN</td>\n",
       "      <td>NaN</td>\n",
       "      <td>...</td>\n",
       "      <td>NaN</td>\n",
       "      <td>NaN</td>\n",
       "      <td>NaN</td>\n",
       "      <td>NaN</td>\n",
       "      <td>NaN</td>\n",
       "      <td>NaN</td>\n",
       "      <td>NaN</td>\n",
       "      <td>NaN</td>\n",
       "      <td>NaN</td>\n",
       "      <td>fsp_final_nigeria_w3_(public).csv</td>\n",
       "    </tr>\n",
       "    <tr>\n",
       "      <th>3</th>\n",
       "      <td>nigeria</td>\n",
       "      <td>1995.0</td>\n",
       "      <td>1</td>\n",
       "      <td>1</td>\n",
       "      <td>5</td>\n",
       "      <td>2</td>\n",
       "      <td>NaN</td>\n",
       "      <td>NaN</td>\n",
       "      <td>NaN</td>\n",
       "      <td>NaN</td>\n",
       "      <td>...</td>\n",
       "      <td>NaN</td>\n",
       "      <td>NaN</td>\n",
       "      <td>NaN</td>\n",
       "      <td>NaN</td>\n",
       "      <td>NaN</td>\n",
       "      <td>NaN</td>\n",
       "      <td>NaN</td>\n",
       "      <td>NaN</td>\n",
       "      <td>NaN</td>\n",
       "      <td>fsp_final_nigeria_w3_(public).csv</td>\n",
       "    </tr>\n",
       "    <tr>\n",
       "      <th>4</th>\n",
       "      <td>nigeria</td>\n",
       "      <td>1998.0</td>\n",
       "      <td>1</td>\n",
       "      <td>1</td>\n",
       "      <td>4</td>\n",
       "      <td>2</td>\n",
       "      <td>NaN</td>\n",
       "      <td>NaN</td>\n",
       "      <td>NaN</td>\n",
       "      <td>NaN</td>\n",
       "      <td>...</td>\n",
       "      <td>NaN</td>\n",
       "      <td>NaN</td>\n",
       "      <td>NaN</td>\n",
       "      <td>NaN</td>\n",
       "      <td>NaN</td>\n",
       "      <td>NaN</td>\n",
       "      <td>NaN</td>\n",
       "      <td>NaN</td>\n",
       "      <td>NaN</td>\n",
       "      <td>fsp_final_nigeria_w3_(public).csv</td>\n",
       "    </tr>\n",
       "  </tbody>\n",
       "</table>\n",
       "<p>5 rows × 124 columns</p>\n",
       "</div>"
      ],
      "text/plain": [
       "   country  year_of_birth  gender  marital_status  education_level  \\\n",
       "0  nigeria         1993.0       2               1                5   \n",
       "1  nigeria         1989.0       1               5                5   \n",
       "2  nigeria         1985.0       2               1                5   \n",
       "3  nigeria         1995.0       1               1                5   \n",
       "4  nigeria         1998.0       1               1                4   \n",
       "\n",
       "   heard_of_mobile_money  biggest_challenge_with_mobile_money  \\\n",
       "0                      2                                  NaN   \n",
       "1                      2                                  NaN   \n",
       "2                      1                                  NaN   \n",
       "3                      2                                  NaN   \n",
       "4                      2                                  NaN   \n",
       "\n",
       "   reason_never_used_mobile_money  ever_used_mobile_money_for|deposit  \\\n",
       "0                             NaN                                 NaN   \n",
       "1                             NaN                                 NaN   \n",
       "2                             1.0                                 NaN   \n",
       "3                             NaN                                 NaN   \n",
       "4                             NaN                                 NaN   \n",
       "\n",
       "   ever_used_mobile_money_for|paygovt                ...                  \\\n",
       "0                                 NaN                ...                   \n",
       "1                                 NaN                ...                   \n",
       "2                                 NaN                ...                   \n",
       "3                                 NaN                ...                   \n",
       "4                                 NaN                ...                   \n",
       "\n",
       "   last_time_financial_activity_using_account|serv2  \\\n",
       "0                                               NaN   \n",
       "1                                               NaN   \n",
       "2                                               NaN   \n",
       "3                                               NaN   \n",
       "4                                               NaN   \n",
       "\n",
       "   last_time_financial_activity_using_account|serv3  \\\n",
       "0                                               NaN   \n",
       "1                                               NaN   \n",
       "2                                               NaN   \n",
       "3                                               NaN   \n",
       "4                                               NaN   \n",
       "\n",
       "   last_time_financial_activity_using_account|serv4  \\\n",
       "0                                               NaN   \n",
       "1                                               NaN   \n",
       "2                                               NaN   \n",
       "3                                               NaN   \n",
       "4                                               NaN   \n",
       "\n",
       "   last_time_financial_activity_using_account|serv5  \\\n",
       "0                                               NaN   \n",
       "1                                               NaN   \n",
       "2                                               NaN   \n",
       "3                                               NaN   \n",
       "4                                               NaN   \n",
       "\n",
       "   last_time_financial_activity_using_account|serv6  \\\n",
       "0                                               NaN   \n",
       "1                                               NaN   \n",
       "2                                               NaN   \n",
       "3                                               NaN   \n",
       "4                                               NaN   \n",
       "\n",
       "   last_time_financial_activity_using_account|serv7  \\\n",
       "0                                               NaN   \n",
       "1                                               NaN   \n",
       "2                                               NaN   \n",
       "3                                               NaN   \n",
       "4                                               NaN   \n",
       "\n",
       "   last_time_financial_activity_using_account|serv8  \\\n",
       "0                                               NaN   \n",
       "1                                               NaN   \n",
       "2                                               NaN   \n",
       "3                                               NaN   \n",
       "4                                               NaN   \n",
       "\n",
       "   last_time_financial_activity_using_account|serv9  \\\n",
       "0                                               NaN   \n",
       "1                                               NaN   \n",
       "2                                               NaN   \n",
       "3                                               NaN   \n",
       "4                                               NaN   \n",
       "\n",
       "   how_long_using_mobile_money                    source_filename  \n",
       "0                          NaN  fsp_final_nigeria_w3_(public).csv  \n",
       "1                          NaN  fsp_final_nigeria_w3_(public).csv  \n",
       "2                          NaN  fsp_final_nigeria_w3_(public).csv  \n",
       "3                          NaN  fsp_final_nigeria_w3_(public).csv  \n",
       "4                          NaN  fsp_final_nigeria_w3_(public).csv  \n",
       "\n",
       "[5 rows x 124 columns]"
      ]
     },
     "execution_count": 4,
     "metadata": {},
     "output_type": "execute_result"
    }
   ],
   "source": [
    "df.head()"
   ]
  },
  {
   "cell_type": "code",
   "execution_count": 5,
   "metadata": {
    "collapsed": false
   },
   "outputs": [
    {
     "name": "stdout",
     "output_type": "stream",
     "text": [
      "total respondants by country\n",
      "{'kenya': 2994.0, 'nigeria': 6001.0, 'tanzania': 3001.0, 'uganda': 3000.0}\n"
     ]
    }
   ],
   "source": [
    "print \"total respondants by country\"\n",
    "n_records = dict()\n",
    "for k,v in df.country.value_counts().iteritems():\n",
    "    n_records[k] = float(v)  # make float for division norms later\n",
    "print n_records"
   ]
  },
  {
   "cell_type": "code",
   "execution_count": null,
   "metadata": {
    "collapsed": true
   },
   "outputs": [],
   "source": []
  },
  {
   "cell_type": "markdown",
   "metadata": {},
   "source": [
    "## Demographic information"
   ]
  },
  {
   "cell_type": "code",
   "execution_count": 6,
   "metadata": {
    "collapsed": false
   },
   "outputs": [
    {
     "data": {
      "image/png": "[encoded data removed]",
      "text/plain": [
       "<matplotlib.figure.Figure at 0x7f686c949410>"
      ]
     },
     "metadata": {},
     "output_type": "display_data"
    }
   ],
   "source": [
    "\"\"\"\n",
    "age of respondants\n",
    "DG1 : Year of birth UT\n",
    "\"\"\"\n",
    "# survey year is 2015\n",
    "survey_year = 2015\n",
    "df['age'] = survey_year - df.year_of_birth\n",
    "\n",
    "# # plot for all ages\n",
    "# ax = sns.distplot(df.age.dropna(), bins=30)\n",
    "# ax.set_title('Age of all respondants')\n",
    "\n",
    "# plot age by country\n",
    "g = sns.FacetGrid(df, col=\"country\")\n",
    "g = g.map(sns.distplot, 'age', )"
   ]
  },
  {
   "cell_type": "code",
   "execution_count": 7,
   "metadata": {
    "collapsed": false
   },
   "outputs": [
    {
     "name": "stderr",
     "output_type": "stream",
     "text": [
      "/home/aman/anaconda/lib/python2.7/site-packages/ipykernel/__main__.py:8: SettingWithCopyWarning: \n",
      "A value is trying to be set on a copy of a slice from a DataFrame\n",
      "\n",
      "See the caveats in the documentation: http://pandas.pydata.org/pandas-docs/stable/indexing.html#indexing-view-versus-copy\n"
     ]
    },
    {
     "data": {
      "text/html": [
       "<div>\n",
       "<table border=\"1\" class=\"dataframe\">\n",
       "  <thead>\n",
       "    <tr style=\"text-align: right;\">\n",
       "      <th>gender</th>\n",
       "      <th>female</th>\n",
       "      <th>male</th>\n",
       "    </tr>\n",
       "    <tr>\n",
       "      <th>country</th>\n",
       "      <th></th>\n",
       "      <th></th>\n",
       "    </tr>\n",
       "  </thead>\n",
       "  <tbody>\n",
       "    <tr>\n",
       "      <th>kenya</th>\n",
       "      <td>0.611890</td>\n",
       "      <td>0.388110</td>\n",
       "    </tr>\n",
       "    <tr>\n",
       "      <th>nigeria</th>\n",
       "      <td>0.429262</td>\n",
       "      <td>0.570738</td>\n",
       "    </tr>\n",
       "    <tr>\n",
       "      <th>tanzania</th>\n",
       "      <td>0.507164</td>\n",
       "      <td>0.492836</td>\n",
       "    </tr>\n",
       "    <tr>\n",
       "      <th>uganda</th>\n",
       "      <td>0.651667</td>\n",
       "      <td>0.348333</td>\n",
       "    </tr>\n",
       "  </tbody>\n",
       "</table>\n",
       "</div>"
      ],
      "text/plain": [
       "gender      female      male\n",
       "country                     \n",
       "kenya     0.611890  0.388110\n",
       "nigeria   0.429262  0.570738\n",
       "tanzania  0.507164  0.492836\n",
       "uganda    0.651667  0.348333"
      ]
     },
     "execution_count": 7,
     "metadata": {},
     "output_type": "execute_result"
    }
   ],
   "source": [
    "\"\"\"\n",
    "Gender\n",
    "DG2 : male/female (observed) UT\n",
    "1 male\n",
    "2 female\n",
    "\"\"\"\n",
    "# convert gender to categorical\n",
    "df.gender[df.gender==1] = 'male'\n",
    "df.gender[df.gender==2] = 'female'\n",
    "\n",
    "col = 'gender'\n",
    "\n",
    "# plot for all ages\n",
    "grp = df.groupby(by='country')[col].value_counts()\n",
    "\n",
    "# normalize\n",
    "dat = grp\\\n",
    "    .unstack()\\\n",
    "    .apply(lambda x: [(count / n_records[country]) for country, count in x.iteritems()])\n",
    "dat\n",
    "#ax = sns.distplot(df.gender.dropna(), bins=30)\n",
    "#ax.set_title('Age of all respondants')\n"
   ]
  },
  {
   "cell_type": "code",
   "execution_count": 45,
   "metadata": {
    "collapsed": false
   },
   "outputs": [
    {
     "data": {
      "text/plain": [
       "<seaborn.axisgrid.FacetGrid at 0x7f6863a86590>"
      ]
     },
     "execution_count": 45,
     "metadata": {},
     "output_type": "execute_result"
    },
    {
     "data": {
      "image/png": "[encoded data removed]",
      "text/plain": [
       "<matplotlib.figure.Figure at 0x7f68685b01d0>"
      ]
     },
     "metadata": {},
     "output_type": "display_data"
    }
   ],
   "source": [
    "# plotting ratio by country\n",
    "# use dat\n",
    "sns.factorplot(data=dat.reset_index(), col='country', \n",
    "               kind='bar', \n",
    "               #set_ylim=(0,1), \n",
    "               #name='a'\n",
    "              )\n",
    "\n",
    "# plotting value by country\n",
    "# use df\n",
    "#sns.countplot(x='country', hue='gender', data=df)"
   ]
  },
  {
   "cell_type": "code",
   "execution_count": 74,
   "metadata": {
    "collapsed": true
   },
   "outputs": [],
   "source": [
    "dat = df[[col, 'country']]\n",
    "rename_map = {\n",
    "    1: 'No formal education',\n",
    "    2: 'Primary education not complete',\n",
    "    3: 'Primary education complete',\n",
    "    4: 'Some secondary',\n",
    "    5: 'Secondary education complete',\n",
    "    6: 'Some secondary vocational training / some certificate',\n",
    "    7: 'Secondary vocational training complete / certificate complete',\n",
    "    8: 'Some diploma',\n",
    "    9: 'Diploma complete',\n",
    "    10: 'Some college/university',\n",
    "    11: 'Complete university degree',\n",
    "    12: 'Post-graduate university degree',\n",
    "    13: 'Koranic school',\n",
    "    14: 'Other',\n",
    "    15: 'DK/Refused',\n",
    "    }\n"
   ]
  },
  {
   "cell_type": "code",
   "execution_count": 111,
   "metadata": {
    "collapsed": false
   },
   "outputs": [
    {
     "name": "stderr",
     "output_type": "stream",
     "text": [
      "/home/aman/anaconda/lib/python2.7/site-packages/ipykernel/__main__.py:43: SettingWithCopyWarning: \n",
      "A value is trying to be set on a copy of a slice from a DataFrame.\n",
      "Try using .loc[row_indexer,col_indexer] = value instead\n",
      "\n",
      "See the caveats in the documentation: http://pandas.pydata.org/pandas-docs/stable/indexing.html#indexing-view-versus-copy\n"
     ]
    },
    {
     "data": {
      "text/plain": [
       "<seaborn.axisgrid.FacetGrid at 0x7f683ba63250>"
      ]
     },
     "execution_count": 111,
     "metadata": {},
     "output_type": "execute_result"
    },
    {
     "data": {
      "image/png": "[encoded data removed]",
      "text/plain": [
       "<matplotlib.figure.Figure at 0x7f683bb36410>"
      ]
     },
     "metadata": {},
     "output_type": "display_data"
    }
   ],
   "source": [
    "\"\"\"\n",
    "Education level\n",
    "----\n",
    "DG4 : education level UT\n",
    "1  No formal education\n",
    "2  Primary education not complete\n",
    "3  Primary education complete\n",
    "4  Some secondary\n",
    "5  Secondary education complete\n",
    "6  Some secondary vocational training / some certificate\n",
    "7  Secondary vocational training complete / certificate complete\n",
    "8  Some diploma\n",
    "9  Diploma complete\n",
    "10 Some college/university\n",
    "11 Complete university degree\n",
    "12 Post-graduate university degree\n",
    "13 Koranic school\n",
    "14 Other\n",
    "15 DK/Refused\n",
    "\"\"\"\n",
    "\n",
    "col = 'education_level'\n",
    "\n",
    "# rename\n",
    "dat = df[[col, 'country']]\n",
    "rename_map = {\n",
    "    1: 'No formal education',\n",
    "    2: 'Primary education not complete',\n",
    "    3: 'Primary education complete',\n",
    "    4: 'Some secondary',\n",
    "    5: 'Secondary education complete',\n",
    "    6: 'Some secondary vocational training / some certificate',\n",
    "    7: 'Secondary vocational training complete / certificate complete',\n",
    "    8: 'Some diploma',\n",
    "    9: 'Diploma complete',\n",
    "    10: 'Some college/university',\n",
    "    11: 'Complete university degree',\n",
    "    12: 'Post-graduate university degree',\n",
    "    13: 'Koranic school',\n",
    "    14: 'Other',\n",
    "    15: 'DK/Refused',\n",
    "    }\n",
    "dat['education'] = dat[col].apply(lambda x: rename_map[x])\n",
    "\n",
    "# counts\n",
    "#dat[col].value_counts()\n",
    "\n",
    "def funcplot(data, color):\n",
    "    sns.countplot(data=data, y='education')\n",
    "\n",
    "# plotting value by country\n",
    "g = sns.FacetGrid(data=dat, col=\"country\")\n",
    "#g.map(sns.countplot, 'education')\n",
    "p = g.map_dataframe(funcplot)\n",
    "#g.set_xticklabels(rotation=30)\n",
    "p"
   ]
  },
  {
   "cell_type": "code",
   "execution_count": 112,
   "metadata": {
    "collapsed": false
   },
   "outputs": [
    {
     "name": "stderr",
     "output_type": "stream",
     "text": [
      "/home/aman/anaconda/lib/python2.7/site-packages/ipykernel/__main__.py:33: SettingWithCopyWarning: \n",
      "A value is trying to be set on a copy of a slice from a DataFrame.\n",
      "Try using .loc[row_indexer,col_indexer] = value instead\n",
      "\n",
      "See the caveats in the documentation: http://pandas.pydata.org/pandas-docs/stable/indexing.html#indexing-view-versus-copy\n"
     ]
    },
    {
     "data": {
      "text/plain": [
       "<seaborn.axisgrid.FacetGrid at 0x7f683b94ded0>"
      ]
     },
     "execution_count": 112,
     "metadata": {},
     "output_type": "execute_result"
    },
    {
     "data": {
      "image/png": "[encoded data removed]",
      "text/plain": [
       "<matplotlib.figure.Figure at 0x7f683bbccdd0>"
      ]
     },
     "metadata": {},
     "output_type": "display_data"
    }
   ],
   "source": [
    "\"\"\"\n",
    "Marital Status\n",
    "\n",
    "DG3 : marital status UT\n",
    "1  Single/ never married\n",
    "2  Polygamously married\n",
    "3  Monogamously married\n",
    "4  Divorced\n",
    "5  Separated\n",
    "6  Widowed\n",
    "7  Living together/ cohabiting\n",
    "8  Other (Specify)\n",
    "9  DK/Refused\n",
    "\n",
    "\"\"\"\n",
    "\n",
    "\n",
    "col = 'marital_status'\n",
    "\n",
    "# rename\n",
    "dat = df[[col, 'country']]\n",
    "rename_map = {\n",
    "    1: 'Single/ never married',\n",
    "    2: 'Polygamously married',\n",
    "    3: 'Monogamously married',\n",
    "    4: 'Divorced',\n",
    "    5: 'Separated',\n",
    "    6: 'Widowed',\n",
    "    7: 'Living together/ cohabiting',\n",
    "    8: 'Other (Specify)',\n",
    "    9: 'DK/Refused',\n",
    "    }\n",
    "dat[col] = dat[col].apply(lambda x: rename_map[x])\n",
    "\n",
    "def funcplot(data, color):\n",
    "    sns.countplot(data=data, y=col)\n",
    "\n",
    "# plotting value by country\n",
    "g = sns.FacetGrid(data=dat, col=\"country\")\n",
    "p = g.map_dataframe(funcplot)\n",
    "p"
   ]
  },
  {
   "cell_type": "markdown",
   "metadata": {},
   "source": [
    "## Funnel step: Exposure\n",
    "\n",
    "Survey Questions: \n",
    "\n",
    " * MM1. Have you ever heard of something called Mobile Money? \n",
    "\n",
    "```\n",
    "'MM1'  : 'heard_of_mobile_money',\n",
    "1 Yes\n",
    "2 No\n",
    "```"
   ]
  },
  {
   "cell_type": "code",
   "execution_count": null,
   "metadata": {
    "collapsed": true
   },
   "outputs": [],
   "source": [
    "col = 'heard_of_mobile_money'"
   ]
  },
  {
   "cell_type": "code",
   "execution_count": 119,
   "metadata": {
    "collapsed": false
   },
   "outputs": [
    {
     "data": {
      "text/plain": [
       "1    8580\n",
       "2    6416\n",
       "Name: heard_of_mobile_money, dtype: int64"
      ]
     },
     "execution_count": 119,
     "metadata": {},
     "output_type": "execute_result"
    }
   ],
   "source": [
    "# overall breakdown\n",
    "df[col].value_counts()"
   ]
  },
  {
   "cell_type": "code",
   "execution_count": 118,
   "metadata": {
    "collapsed": false
   },
   "outputs": [
    {
     "data": {
      "text/html": [
       "<div>\n",
       "<table border=\"1\" class=\"dataframe\">\n",
       "  <thead>\n",
       "    <tr style=\"text-align: right;\">\n",
       "      <th></th>\n",
       "      <th>% yes</th>\n",
       "      <th>% no</th>\n",
       "    </tr>\n",
       "    <tr>\n",
       "      <th>country</th>\n",
       "      <th></th>\n",
       "      <th></th>\n",
       "    </tr>\n",
       "  </thead>\n",
       "  <tbody>\n",
       "    <tr>\n",
       "      <th>kenya</th>\n",
       "      <td>0.742151</td>\n",
       "      <td>0.257849</td>\n",
       "    </tr>\n",
       "    <tr>\n",
       "      <th>nigeria</th>\n",
       "      <td>0.157974</td>\n",
       "      <td>0.842026</td>\n",
       "    </tr>\n",
       "    <tr>\n",
       "      <th>tanzania</th>\n",
       "      <td>0.886371</td>\n",
       "      <td>0.113629</td>\n",
       "    </tr>\n",
       "    <tr>\n",
       "      <th>uganda</th>\n",
       "      <td>0.916667</td>\n",
       "      <td>0.083333</td>\n",
       "    </tr>\n",
       "  </tbody>\n",
       "</table>\n",
       "</div>"
      ],
      "text/plain": [
       "             % yes      % no\n",
       "country                     \n",
       "kenya     0.742151  0.257849\n",
       "nigeria   0.157974  0.842026\n",
       "tanzania  0.886371  0.113629\n",
       "uganda    0.916667  0.083333"
      ]
     },
     "execution_count": 118,
     "metadata": {},
     "output_type": "execute_result"
    }
   ],
   "source": [
    "grp = df.groupby(by='country')[col].value_counts()\n",
    "\n",
    "# normalize\n",
    "dat = grp\\\n",
    "    .unstack()\\\n",
    "    .apply(lambda x: [(count / n_records[country]) for country, count in x.iteritems()])\n",
    "\n",
    "# answers\n",
    "dat.columns = ['% yes', '% no']\n",
    "dat"
   ]
  },
  {
   "cell_type": "code",
   "execution_count": null,
   "metadata": {
    "collapsed": true
   },
   "outputs": [],
   "source": []
  },
  {
   "cell_type": "code",
   "execution_count": null,
   "metadata": {
    "collapsed": true
   },
   "outputs": [],
   "source": [
    "Wave 3 questions (Uganda, Kenya, Tanzania) questions that relate to these concepts.\n",
    "\n",
    "Exposure:\n",
    "MM1. Have you ever heard of something called Mobile Money? \n",
    "\n",
    "Enrollment:\n",
    "MM4. Have you ever used this mobile money service for any financial activity?\n",
    "MM6_n Do you have a registered account (account registered in your name) with [any] mobile money service?\n",
    "+ no answer for MM12 What is the main reason you have never used mobile money services?\n",
    "\n",
    "Usage of Basic Financial Services \n",
    "MM15. Have you ever used a mobile money account to do [any of] the following [basic services]?\n",
    "[1-2] deposit, withdraw\n",
    "[3-10] pay bills\n",
    "[11 - 12] Send, Receive money\n",
    "\n",
    "Usage of sophisticated financial services\n",
    "MM15. Have you ever used a mobile money account to do [any of] the following [sophisticated financial services]?\n",
    "  [16] Insurance\n",
    "  [18, 19, ] long term savings\n",
    "  [20, ] emergency funds\n",
    "  [17] large transactions, regular transactions (like loans, mortgage)\n",
    "\n",
    "Recency:\n",
    "User has used mobile financial services in the recent path\n",
    "MM5_n. Apart from today, when was the last time you conducted any financial activity with [any] mobile money service?\n",
    "MM8_n. Apart from today, when was the last time you conducted any financial activity using these registered accounts?\n",
    "\n",
    "Longevity\n",
    "learned about / signed up for financial services some time ago\n",
    "MM9 For how long have you been using mobile money services?\n",
    "\n",
    "Frequency\n",
    "Uses financial services regularly / frequently\n",
    "MM17. How often do you use mobile money for [any] activity?\n",
    "[could break this down into basic and sophisticated financial activities as well] \n",
    "\n",
    "Retention\n",
    "\n"
   ]
  },
  {
   "cell_type": "raw",
   "metadata": {},
   "source": [
    "\n",
    "def plotfunc(data, color):\n",
    "    sns.distplot(data.age)\n",
    "    \n",
    "g = sns.FacetGrid(df, col=\"country\")\n",
    "g = g.map_dataframe(plotfunc)\n"
   ]
  }
 ],
 "metadata": {
  "kernelspec": {
   "display_name": "Python 2",
   "language": "python",
   "name": "python2"
  },
  "language_info": {
   "codemirror_mode": {
    "name": "ipython",
    "version": 2
   },
   "file_extension": ".py",
   "mimetype": "text/x-python",
   "name": "python",
   "nbconvert_exporter": "python",
   "pygments_lexer": "ipython2",
   "version": "2.7.12"
  }
 },
 "nbformat": 4,
 "nbformat_minor": 0
}
