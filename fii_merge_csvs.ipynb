{
 "cells": [
  {
   "cell_type": "markdown",
   "metadata": {},
   "source": [
    "# fii merge csvs notebook\n",
    "\n",
    "Objective\n",
    "\n",
    "FII Data has been moved from XLSX to csv format, now load it all into a single table and take a look\n",
    "\n",
    " \n",
    "Data selection\n",
    " * choosing to ignore data other than Uganda and Tanzania and Nigeria and Kenya\n",
    " * Using Wave 3 surveys only\n",
    " * limiting columns to those selected for analysis.  See notebook \"Columns for analysis\"\n"
   ]
  },
  {
   "cell_type": "code",
   "execution_count": 1,
   "metadata": {
    "collapsed": false
   },
   "outputs": [
    {
     "name": "stdout",
     "output_type": "stream",
     "text": [
      "\r\n",
      "\r\n",
      "Questions retained for analysis\r\n",
      "\r\n",
      " Set 1 Basic demographics\r\n",
      " Set 2 Mobile and Mobile money usage\r\n",
      " Set 3 Retention (longitudinal) \r\n",
      "\r\n",
      "\r\n",
      "Wave 3\r\n"
     ]
    }
   ],
   "source": [
    "!head columns_for_analysis"
   ]
  },
  {
   "cell_type": "code",
   "execution_count": 2,
   "metadata": {
    "collapsed": false
   },
   "outputs": [
    {
     "name": "stderr",
     "output_type": "stream",
     "text": [
      "/home/aman/anaconda/lib/python2.7/site-packages/matplotlib/__init__.py:872: UserWarning: axes.color_cycle is deprecated and replaced with axes.prop_cycle; please use the latter.\n",
      "  warnings.warn(self.msg_depr % (key, alt_key))\n"
     ]
    }
   ],
   "source": [
    "import os\n",
    "import pandas as pd\n",
    "import numpy as np\n",
    "\n",
    "source_data_dir = 'Data/fii_csv/'\n",
    "\n",
    "%matplotlib inline\n",
    "import matplotlib.pyplot as plt\n",
    "import seaborn as sns\n"
   ]
  },
  {
   "cell_type": "code",
   "execution_count": 3,
   "metadata": {
    "collapsed": false
   },
   "outputs": [
    {
     "data": {
      "text/plain": [
       "['fsp_final_nigeria_w3_(public).csv',\n",
       " 'fsp_final_kenya_w3_(public).csv',\n",
       " 'fsp_final_tanzania_w3_(public).csv',\n",
       " 'fsp_final_uganda_w3_(public).csv']"
      ]
     },
     "execution_count": 3,
     "metadata": {},
     "output_type": "execute_result"
    }
   ],
   "source": [
    "csv_files = os.listdir(source_data_dir)\n",
    "\n",
    "# We only care about these countries right now right now\n",
    "keep_countries = ['uganda', 'tanzania', 'nigeria', 'kenya']\n",
    "csv_files = [f for f in csv_files\n",
    "             if any([country in f for country in keep_countries])\n",
    "            ]\n",
    "\n",
    "# keep wave 3 only\n",
    "csv_files = [f for f in csv_files if 'w3' in f]\n",
    "\n",
    "csv_files"
   ]
  },
  {
   "cell_type": "code",
   "execution_count": 4,
   "metadata": {
    "collapsed": false
   },
   "outputs": [
    {
     "name": "stdout",
     "output_type": "stream",
     "text": [
      "Test\n",
      "fsp_final_uganda_w3_(public).csv --> uganda\n"
     ]
    }
   ],
   "source": [
    "import re\n",
    "\n",
    "def get_country_from_filename(filename):\n",
    "    \"\"\"utility function to extract the country name from the filename\"\"\"\n",
    "    spl = re.split('[_ -]', filename)\n",
    "    idx = spl.index('final') + 1\n",
    "    return spl[idx]\n",
    "\n",
    "# test\n",
    "print \"Test\\n{} --> {}\".format(\n",
    "    'fsp_final_uganda_w3_(public).csv',\n",
    "    get_country_from_filename('fsp_final_uganda_w3_(public).csv')\n",
    "    )"
   ]
  },
  {
   "cell_type": "code",
   "execution_count": 5,
   "metadata": {
    "collapsed": false
   },
   "outputs": [
    {
     "name": "stdout",
     "output_type": "stream",
     "text": [
      "Loading Data/fii_csv/fsp_final_nigeria_w3_(public).csv.\n",
      "Loading Data/fii_csv/fsp_final_kenya_w3_(public).csv.\n",
      "Loading Data/fii_csv/fsp_final_tanzania_w3_(public).csv.\n",
      "Loading Data/fii_csv/fsp_final_uganda_w3_(public).csv."
     ]
    },
    {
     "name": "stderr",
     "output_type": "stream",
     "text": [
      "/home/aman/anaconda/lib/python2.7/site-packages/IPython/core/interactiveshell.py:2902: DtypeWarning: Columns (873) have mixed types. Specify dtype option on import or set low_memory=False.\n",
      "  interactivity=interactivity, compiler=compiler, result=result)\n",
      "/home/aman/anaconda/lib/python2.7/site-packages/IPython/core/interactiveshell.py:2902: DtypeWarning: Columns (828) have mixed types. Specify dtype option on import or set low_memory=False.\n",
      "  interactivity=interactivity, compiler=compiler, result=result)\n"
     ]
    },
    {
     "name": "stdout",
     "output_type": "stream",
     "text": [
      "\n",
      "Done loading 4 files.\n"
     ]
    }
   ],
   "source": [
    "all_dfs = []\n",
    "for csv_file in csv_files:\n",
    "    path = os.path.join(source_data_dir, csv_file)\n",
    "    print \"Loading {}.\".format(path)\n",
    "    \n",
    "    df = pd.read_table(path, \n",
    "                       sep=',',\n",
    "                      )\n",
    "    \n",
    "    df['country'] = get_country_from_filename(csv_file)\n",
    "    df['source_filename'] = csv_file\n",
    "    \n",
    "    # consistent capitalization across all columns\n",
    "    cols_load = df.columns.tolist()\n",
    "    cols_renamed = [c.lower() for c in cols_load]\n",
    "    df = df.rename(columns=dict(zip(cols_load, cols_renamed)))\n",
    "    \n",
    "    all_dfs.append(df)\n",
    "\n",
    "print \"Done loading {} files.\".format(len(all_dfs))"
   ]
  },
  {
   "cell_type": "markdown",
   "metadata": {},
   "source": [
    "### Attempting cleanup"
   ]
  },
  {
   "cell_type": "code",
   "execution_count": 6,
   "metadata": {
    "collapsed": false
   },
   "outputs": [
    {
     "name": "stdout",
     "output_type": "stream",
     "text": [
      "fsp_final_nigeria_w3_(public).csv                  : (6001, 1033)\n",
      "fsp_final_kenya_w3_(public).csv                    : (2994, 1090)\n",
      "fsp_final_tanzania_w3_(public).csv                 : (3001, 983)\n",
      "fsp_final_uganda_w3_(public).csv                   : (3000, 998)\n"
     ]
    }
   ],
   "source": [
    "#Check shapes of each little dataframe\n",
    "for df in all_dfs:\n",
    "    print \"{:<50} : {}\".format(df.source_filename[0], df.shape)"
   ]
  },
  {
   "cell_type": "code",
   "execution_count": 7,
   "metadata": {
    "collapsed": false
   },
   "outputs": [
    {
     "name": "stdout",
     "output_type": "stream",
     "text": [
      "(14996, 1185)\n"
     ]
    }
   ],
   "source": [
    "# if we just merge all these directly, we get: \n",
    "big_df = pd.concat(all_dfs)\n",
    "print big_df.shape\n",
    "del big_df"
   ]
  },
  {
   "cell_type": "markdown",
   "metadata": {},
   "source": [
    "# Columns"
   ]
  },
  {
   "cell_type": "code",
   "execution_count": 8,
   "metadata": {
    "collapsed": false
   },
   "outputs": [
    {
     "name": "stdout",
     "output_type": "stream",
     "text": [
      "Columns\n",
      "Intersection / And : 939\n",
      "Disjoint / difference : 64\n",
      "Union / OR      : 1185\n"
     ]
    }
   ],
   "source": [
    "print \"Columns\"\n",
    "\n",
    "cols_array = [df.columns.tolist() for df in all_dfs]\n",
    "\n",
    "print \"{:<15} : {}\".format(\n",
    "    \"Intersection / And\",\n",
    "    len(set.intersection(*map(set,cols_array)))\n",
    "    )\n",
    "\n",
    "print \"{:15} : {}\".format(\n",
    "    \"Disjoint / difference\",\n",
    "    len(set.difference(*map(set,cols_array)))\n",
    "    )\n",
    "\n",
    "print \"{:15} : {}\".format(\n",
    "    \"Union / OR\", \n",
    "    len(set.union(*map(set,cols_array)))\n",
    "    )\n",
    "\n",
    "all_columns_union = set.union(*map(set,cols_array))"
   ]
  },
  {
   "cell_type": "raw",
   "metadata": {},
   "source": [
    "set.intersection(*map(set,cols_array)) - set(keep_cols)"
   ]
  },
  {
   "cell_type": "code",
   "execution_count": 9,
   "metadata": {
    "collapsed": false
   },
   "outputs": [],
   "source": [
    "code_book_dict = {\n",
    "    # Taken from ffi codebook by manual inspection \n",
    "    # see 'columns for analysis'\n",
    "    # \n",
    "    # Custom\n",
    "    'source_filename': 'source_filename',\n",
    "    'country': 'country',\n",
    "    \n",
    "    # Set 1\n",
    "    # ----------------\n",
    "    'DG1'  : 'year_of_birth',\n",
    "    'DG2'  : 'gender',\n",
    "    'DG3'  : 'marital_status',\n",
    "    'DG4'  : 'education_level',\n",
    "    \n",
    "    \n",
    "    # Set 2\n",
    "    # ----------------\n",
    "    'MM1'  : 'heard_of_mobile_money',\n",
    "    \n",
    "    #'MM4'  : 'ever_used_any_mobile_money_service',\n",
    "    'MM4_1'  : 'ever_used_any_mobile_money_service|serv1',\n",
    "    'MM4_2'  : 'ever_used_any_mobile_money_service|serv2',\n",
    "    'MM4_3'  : 'ever_used_any_mobile_money_service|serv3',\n",
    "    'MM4_4'  : 'ever_used_any_mobile_money_service|serv4',\n",
    "    'MM4_5'  : 'ever_used_any_mobile_money_service|serv5',\n",
    "    'MM4_6'  : 'ever_used_any_mobile_money_service|serv6',\n",
    "    'MM4_7'  : 'ever_used_any_mobile_money_service|serv7',\n",
    "    'MM4_8'  : 'ever_used_any_mobile_money_service|serv8',\n",
    "    'MM4_9'  : 'ever_used_any_mobile_money_service|serv9',\n",
    "    'MM4_10'  : 'ever_used_any_mobile_money_service|serv10',\n",
    "    'MM4_11'  : 'ever_used_any_mobile_money_service|serv11',\n",
    "    'MM4_12'  : 'ever_used_any_mobile_money_service|serv12',\n",
    "    'MM4_13'  : 'ever_used_any_mobile_money_service|serv13',\n",
    "    'MM4_14'  : 'ever_used_any_mobile_money_service|serv14',\n",
    "    \n",
    "    #'MM6'  : 'have_account_with_any_mobile_money_service',\n",
    "    'MM6_1'  : 'have_account_with_any_mobile_money_service|serv1',\n",
    "    'MM6_2'  : 'have_account_with_any_mobile_money_service|serv2',\n",
    "    'MM6_3'  : 'have_account_with_any_mobile_money_service|serv3',\n",
    "    'MM6_4'  : 'have_account_with_any_mobile_money_service|serv4',\n",
    "    'MM6_5'  : 'have_account_with_any_mobile_money_service|serv5',\n",
    "    'MM6_6'  : 'have_account_with_any_mobile_money_service|serv6',\n",
    "    'MM6_7'  : 'have_account_with_any_mobile_money_service|serv7',\n",
    "    'MM6_8'  : 'have_account_with_any_mobile_money_service|serv8',\n",
    "    'MM6_9'  : 'have_account_with_any_mobile_money_service|serv9',\n",
    "    'MM6_10'  : 'have_account_with_any_mobile_money_service|serv10',\n",
    "    'MM6_11'  : 'have_account_with_any_mobile_money_service|serv11',\n",
    "    'MM6_12'  : 'have_account_with_any_mobile_money_service|serv12',\n",
    "    'MM6_13'  : 'have_account_with_any_mobile_money_service|serv13',\n",
    "    'MM6_14'  : 'have_account_with_any_mobile_money_service|serv14',\n",
    "    \n",
    "    'MM10' : 'biggest_challenge_with_mobile_money',\n",
    "    'MM12' : 'reason_never_used_mobile_money',\n",
    "    \n",
    "    #'MM15' : 'ever_used_mobile_money_for_this_activity',\n",
    "    'MM15_1' : 'ever_used_mobile_money_for|deposit',\n",
    "    'MM15_2' : 'ever_used_mobile_money_for|withdraw',\n",
    "    'MM15_3' : 'ever_used_mobile_money_for|paymobilebill',\n",
    "    'MM15_4' : 'ever_used_mobile_money_for|payschoolfee',\n",
    "    'MM15_5' : 'ever_used_mobile_money_for|paymedical',\n",
    "    'MM15_6' : 'ever_used_mobile_money_for|payelectrical',\n",
    "    'MM15_7' : 'ever_used_mobile_money_for|paywater',\n",
    "    'MM15_8' : 'ever_used_mobile_money_for|paysolar',\n",
    "    'MM15_9' : 'ever_used_mobile_money_for|paytv',\n",
    "    'MM15_10' : 'ever_used_mobile_money_for|paygovt',\n",
    "    'MM15_11' : 'ever_used_mobile_money_for|sendmoneyindiv',\n",
    "    'MM15_12' : 'ever_used_mobile_money_for|getmoneyindiv',\n",
    "    'MM15_13' : 'ever_used_mobile_money_for|getmoneygovt',\n",
    "    'MM15_14' : 'ever_used_mobile_money_for|getwages',\n",
    "    'MM15_15' : 'ever_used_mobile_money_for|paylarge',\n",
    "    'MM15_16' : 'ever_used_mobile_money_for|payinsurance',\n",
    "    'MM15_17' : 'ever_used_mobile_money_for|payloan',\n",
    "    'MM15_18' : 'ever_used_mobile_money_for|savemoney',\n",
    "    'MM15_19' : 'ever_used_mobile_money_for|setasidepension',\n",
    "    'MM15_20' : 'ever_used_mobile_money_for|setasideother',\n",
    "    'MM15_21' : 'ever_used_mobile_money_for|makeinvestment',\n",
    "    'MM15_22' : 'ever_used_mobile_money_for|payatstore',\n",
    "    'MM15_23' : 'ever_used_mobile_money_for|transfermobile',\n",
    "    'MM15_24' : 'ever_used_mobile_money_for|transferbank',\n",
    "    'MM15_25' : 'ever_used_mobile_money_for|transfermobiletoother',\n",
    "    'MM15_26' : 'ever_used_mobile_money_for|lendinggroup',\n",
    "    'MM15_27' : 'ever_used_mobile_money_for|payrent',\n",
    "    'MM15_28' : 'ever_used_mobile_money_for|accountmaint',\n",
    "    'MM15_29' : 'ever_used_mobile_money_for|other',\n",
    "    \n",
    "    # Set 3\n",
    "    # ----------------\n",
    "    \n",
    "    #'MM5'  : 'last_time_financial_activity_with_mobile_money',\n",
    "    'MM5_1' : 'last_time_fin_activity_w_mobile_money|yesterday',\n",
    "    'MM5_2' : 'last_time_fin_activity_w_mobile_money|past7days',\n",
    "    'MM5_3' : 'last_time_fin_activity_w_mobile_money|past30days',\n",
    "    'MM5_4' : 'last_time_fin_activity_w_mobile_money|past90days',\n",
    "    'MM5_5' : 'last_time_fin_activity_w_mobile_money|morethan90days',\n",
    "    \n",
    "    #'MM8'  : 'last_time_financial_activity_using_account',\n",
    "    'MM8_1'  : 'last_time_financial_activity_using_account|serv1',\n",
    "    'MM8_2'  : 'last_time_financial_activity_using_account|serv2',\n",
    "    'MM8_3'  : 'last_time_financial_activity_using_account|serv3',\n",
    "    'MM8_4'  : 'last_time_financial_activity_using_account|serv4',\n",
    "    'MM8_5'  : 'last_time_financial_activity_using_account|serv5',\n",
    "    'MM8_6'  : 'last_time_financial_activity_using_account|serv6',\n",
    "    'MM8_7'  : 'last_time_financial_activity_using_account|serv7',\n",
    "    'MM8_8'  : 'last_time_financial_activity_using_account|serv8',\n",
    "    'MM8_9'  : 'last_time_financial_activity_using_account|serv9',\n",
    "    'MM8_10'  : 'last_time_financial_activity_using_account|serv10',\n",
    "    'MM8_11'  : 'last_time_financial_activity_using_account|serv11',\n",
    "    'MM8_12'  : 'last_time_financial_activity_using_account|serv12',\n",
    "    'MM8_13'  : 'last_time_financial_activity_using_account|serv13',\n",
    "    'MM8_14'  : 'last_time_financial_activity_using_account|serv14',\n",
    "    \n",
    "    #'MM17' : 'how_often_use_mobile_money_for_this_activity',\n",
    "    'MM17_1' : 'last_time_activity_on_phone|yesterday',\n",
    "    'MM17_2' : 'last_time_activity_on_phone|past7days',\n",
    "    'MM17_3' : 'last_time_activity_on_phone|past30days',\n",
    "    'MM17_4' : 'last_time_activity_on_phone|past90days',\n",
    "    'MM17_5' : 'last_time_activity_on_phone|morethan90days',\n",
    "    'MM17_6' : 'last_time_activity_on_phone|never',\n",
    "    \n",
    "    'MM9'  : 'how_long_using_mobile_money',\n",
    "    \n",
    "    # IFI1\n",
    "    # IFI2\n",
    "    # IFI3\n",
    "    # IFI4\n",
    "    # IFI10\n",
    "    # IFI11\n",
    "    # IFI12\n",
    "    # IFI13    \n",
    "}\n",
    "\n",
    "# make all lower case\n",
    "code_book_dict = {k.lower(): v for k, v in code_book_dict.items()}\n",
    "\n",
    "\"\"\"\n",
    "These are human readable columns in all dataframes\n",
    "Found by printing column names intersection\n",
    ">>> set.intersection(*map(set,cols_array))\n",
    "and filtering manually\n",
    "\"\"\"\n",
    "human_readable_columns = [\n",
    "    'access_bank_full',\n",
    "    'access_mm',\n",
    "    'access_mm_and_bank_full',\n",
    "    'access_mm_or_bank_full',\n",
    "    'access_phone',\n",
    "    'access_phone_sim',\n",
    "    'active_bank_full',\n",
    "    'active_mm',\n",
    "    'active_mm_and_bank_full',\n",
    "    'active_mm_or_bank_full',\n",
    "    'active_nonreg_mm',\n",
    "    'age',\n",
    "    'age_group',\n",
    "    'aware_mm',\n",
    "    'aware_mm_provider',\n",
    "    'business_bank',\n",
    "    'business_bank_and_mm',\n",
    "    'business_bank_or_mm',\n",
    "    'business_mm',\n",
    "    'lapsed_nonreg_mm',\n",
    "    'lapsed_registered_mm',\n",
    "    'literacy',\n",
    "    'nonregistered_bank_full',\n",
    "    'nonregistered_mm',\n",
    "    'nonregistered_mm_and_bank_full',\n",
    "    'nonregistered_mm_or_bank_full',\n",
    "    'nonuser_bank_full',\n",
    "    'nonuser_mm',\n",
    "    'nonuser_mm_bank_full',\n",
    "    'numeracy',\n",
    "    'own_phone_sim',\n",
    "    'ppi_cutoff',\n",
    "    'ppi_score',\n",
    "    'registered_bank_full',\n",
    "    'registered_mm',\n",
    "    'registered_mm_and_bank_full',\n",
    "    'registered_mm_or_bank_full',\n",
    "    'rural_females',\n",
    "    'rural_males',\n",
    "    'rural_poor',\n",
    "    'ur',\n",
    "    'weight'\n",
    "]"
   ]
  },
  {
   "cell_type": "code",
   "execution_count": 10,
   "metadata": {
    "collapsed": false
   },
   "outputs": [
    {
     "name": "stdout",
     "output_type": "stream",
     "text": [
      "Keeping these columns:  ['mm5_5', 'mm5_4', 'mm5_3', 'mm5_2', 'mm5_1', 'mm4_10', 'mm4_11', 'mm4_12', 'mm4_13', 'mm4_14', 'mm6_12', 'mm6_13', 'mm6_10', 'mm6_11', 'mm6_14', 'mm17_5', 'mm17_4', 'mm17_6', 'mm17_1', 'mm17_3', 'mm17_2', 'mm1', 'mm15_22', 'mm15_23', 'mm15_20', 'mm15_21', 'mm15_26', 'mm15_27', 'mm15_24', 'mm15_25', 'mm15_28', 'mm15_29', 'country', 'mm15_3', 'mm15_2', 'mm15_1', 'mm15_7', 'mm15_6', 'mm15_5', 'mm15_4', 'mm15_9', 'mm15_8', 'mm8_2', 'mm8_3', 'mm8_1', 'mm8_6', 'mm8_7', 'mm8_4', 'mm8_5', 'mm9', 'mm8_8', 'mm8_9', 'mm6_1', 'mm6_2', 'mm6_3', 'mm6_4', 'mm6_5', 'mm6_6', 'mm6_7', 'mm6_8', 'mm6_9', 'mm4_6', 'mm4_7', 'mm4_4', 'mm4_5', 'mm4_2', 'mm4_3', 'mm4_1', 'mm4_8', 'mm4_9', 'source_filename', 'mm10', 'mm12', 'dg2', 'dg3', 'dg1', 'dg4', 'mm8_14', 'mm8_10', 'mm8_11', 'mm8_12', 'mm8_13', 'mm15_19', 'mm15_18', 'mm15_13', 'mm15_12', 'mm15_11', 'mm15_10', 'mm15_17', 'mm15_16', 'mm15_15', 'mm15_14']\n",
      "\n",
      "Warning! These columns not found in all dfs:\n",
      "mm4_10\n",
      "mm4_11\n",
      "mm4_12\n",
      "mm4_13\n",
      "mm4_14\n",
      "mm4_7\n",
      "mm4_8\n",
      "mm4_9\n",
      "mm6_10\n",
      "mm6_11\n",
      "mm6_12\n",
      "mm6_13\n",
      "mm6_14\n",
      "mm6_7\n",
      "mm6_8\n",
      "mm6_9\n",
      "mm8_10\n",
      "mm8_11\n",
      "mm8_12\n",
      "mm8_13\n",
      "mm8_14\n",
      "mm8_7\n",
      "mm8_8\n",
      "mm8_9\n"
     ]
    }
   ],
   "source": [
    "# from codebook\n",
    "keep_cols = list(code_book_dict.viewkeys())\n",
    "\n",
    "# from human readable list\n",
    "# I DO NOT TRUST THESE \"human readable columns\" #AA 20160910\n",
    "# keep_cols = keep_cols + human_readable_columns\n",
    "\n",
    "print \"Keeping these columns: \", keep_cols\n",
    "\n",
    "print \"\\nWarning!\",\n",
    "print \"These columns not found in all dfs:\"\n",
    "for col in sorted(keep_cols):\n",
    "    if not all([col in idf.columns.tolist() for idf in all_dfs]):\n",
    "        print col\n",
    "\n"
   ]
  },
  {
   "cell_type": "code",
   "execution_count": 11,
   "metadata": {
    "collapsed": false
   },
   "outputs": [],
   "source": [
    "# sanity check col names\n",
    "# should return nothing\n",
    "for col in keep_cols:\n",
    "    if not col in all_dfs[0].columns.tolist():\n",
    "        print col"
   ]
  },
  {
   "cell_type": "code",
   "execution_count": 12,
   "metadata": {
    "collapsed": false
   },
   "outputs": [
    {
     "name": "stdout",
     "output_type": "stream",
     "text": [
      "['age', 'age_group']\n",
      "['age', 'age_group']\n",
      "['age', 'age_group']\n",
      "['age', 'age_group']\n"
     ]
    }
   ],
   "source": [
    "# search in df columns\n",
    "search_string = 'age'\n",
    "for idf in all_dfs:\n",
    "    #print idf.columns.tolist()\n",
    "    print [c for c in idf.columns.tolist() if search_string in c.lower()]\n",
    "    "
   ]
  },
  {
   "cell_type": "markdown",
   "metadata": {},
   "source": [
    "# DO the work here\n",
    "\n",
    " * Here we construct the dataframe, finally\n",
    " * combine dataframes for each csv\n",
    " * keep only the columns specified above\n",
    " * dump to csv\n",
    " \n"
   ]
  },
  {
   "cell_type": "code",
   "execution_count": 13,
   "metadata": {
    "collapsed": false
   },
   "outputs": [
    {
     "name": "stdout",
     "output_type": "stream",
     "text": [
      "(14996, 92)\n"
     ]
    }
   ],
   "source": [
    "# only keep columns we care about in each df\n",
    "# must do this before merging df due to memory constraints\n",
    "\n",
    "def drop_extra_cols(df, keep_cols):\n",
    "    \n",
    "    df_cols = df.columns.tolist()\n",
    "    intersect_cols = set(df_cols).intersection(keep_cols)\n",
    "    \n",
    "    return df[list(intersect_cols)]\n",
    "\n",
    "# drop columns in each dataframe\n",
    "all_dfs_dropped_cols = [drop_extra_cols(df, keep_cols) for df in all_dfs]\n",
    "\n",
    "# concatenate all dataframes into one\n",
    "big_df = pd.concat(all_dfs_dropped_cols)\n",
    "\n",
    "# rename columns from codebook\n",
    "big_df = big_df.rename(columns=code_book_dict)\n",
    "\n",
    "\n",
    "print big_df.shape"
   ]
  },
  {
   "cell_type": "code",
   "execution_count": 14,
   "metadata": {
    "collapsed": true
   },
   "outputs": [],
   "source": [
    "## dump to csv\n",
    "\n",
    "big_df.to_csv('Data/merged_fii_data_wave3_20160910.csv', )"
   ]
  },
  {
   "cell_type": "code",
   "execution_count": 15,
   "metadata": {
    "collapsed": false
   },
   "outputs": [
    {
     "data": {
      "text/plain": [
       "nigeria     6001\n",
       "tanzania    3001\n",
       "uganda      3000\n",
       "kenya       2994\n",
       "Name: country, dtype: int64"
      ]
     },
     "execution_count": 15,
     "metadata": {},
     "output_type": "execute_result"
    }
   ],
   "source": [
    "big_df.country.value_counts()"
   ]
  },
  {
   "cell_type": "code",
   "execution_count": 16,
   "metadata": {
    "collapsed": false
   },
   "outputs": [
    {
     "data": {
      "text/plain": [
       "array(['nigeria', 'kenya', 'tanzania', 'uganda'], dtype=object)"
      ]
     },
     "execution_count": 16,
     "metadata": {},
     "output_type": "execute_result"
    }
   ],
   "source": [
    "big_df['country'].unique()"
   ]
  },
  {
   "cell_type": "code",
   "execution_count": 20,
   "metadata": {
    "collapsed": false
   },
   "outputs": [
    {
     "data": {
      "image/png": "[encoded data removed]",
      "text/plain": [
       "<matplotlib.figure.Figure at 0x7f0468f79d90>"
      ]
     },
     "metadata": {},
     "output_type": "display_data"
    }
   ],
   "source": [
    "# quick test\n",
    "col='year_of_birth'\n",
    "ax = big_df[col].plot(kind='kde', title=col, figsize=(10,4))"
   ]
  },
  {
   "cell_type": "raw",
   "metadata": {},
   "source": [
    "# Plotting by seaborn\n",
    "ax = sns.boxplot(df[mask].age, groupby=df[mask].country)"
   ]
  },
  {
   "cell_type": "code",
   "execution_count": 21,
   "metadata": {
    "collapsed": true
   },
   "outputs": [],
   "source": [
    "import ipywidgets"
   ]
  },
  {
   "cell_type": "code",
   "execution_count": 22,
   "metadata": {
    "collapsed": false
   },
   "outputs": [],
   "source": [
    "\n",
    "select_column = ipywidgets.Select(\n",
    "    options=sorted(list(big_df.columns.tolist())),\n",
    "    description = \"Select a column.\")\n",
    "\n",
    "select_column"
   ]
  },
  {
   "cell_type": "code",
   "execution_count": 34,
   "metadata": {
    "collapsed": false
   },
   "outputs": [
    {
     "data": {
      "text/plain": [
       "<matplotlib.axes._subplots.AxesSubplot at 0x7f0431f14c90>"
      ]
     },
     "metadata": {},
     "output_type": "display_data"
    },
    {
     "data": {
      "image/png": "[encoded data removed]",
      "text/plain": [
       "<matplotlib.figure.Figure at 0x7f043296f690>"
      ]
     },
     "metadata": {},
     "output_type": "display_data"
    }
   ],
   "source": [
    "\n",
    "def plot_var_across_country(column, ):\n",
    "    fig, axes = plt.subplots(nrows=2, ncols=2, figsize=(15,4), \n",
    "                             sharex=True, \n",
    "                             sharey=True\n",
    "                            )\n",
    "    axlist = axes.flatten()\n",
    "\n",
    "    column_type_mapping = {\n",
    "            # column name   ---- type of plot\n",
    "            'marital status': 'hist'\n",
    "        }\n",
    "\n",
    "    for idx, country in enumerate(keep_countries):\n",
    "        ax = axlist[idx]\n",
    "        mask = (big_df.country == country)\n",
    "\n",
    "        column_type = column_type_mapping.get(column, 'hist')\n",
    "\n",
    "        big_df[mask][column]\\\n",
    "            .plot(\n",
    "                    kind='hist', \n",
    "                    title='{} for {}'.format(column, country),\n",
    "                    alpha=0.6,\n",
    "                    ax=ax,\n",
    "                )\n",
    "\n",
    "        # BAR PLOT\n",
    "#         if column_type=='bar':\n",
    "#             big_df[mask][column]\\\n",
    "#                 .plot(\n",
    "#                     kind='bar', \n",
    "#                     title='{} for {}'.format(column, country),\n",
    "#                     alpha=0.6,\n",
    "#                     ax=ax,\n",
    "#                 )\n",
    "\n",
    "#         # DEFAULT PLOT (hist)\n",
    "#         else: \n",
    "#             big_df[mask][column]\\\n",
    "#                 .plot(\n",
    "#                     kind='hist', \n",
    "#                     title='{} for {}'.format(column, country),\n",
    "#                     alpha=0.6,\n",
    "#                     ax=ax,\n",
    "#                 )\n",
    "#         #ax.set_xlim(0,100)\n",
    "        \n",
    "    return ax\n",
    "\n",
    "tt = ipywidgets.interact(plot_var_across_country, \n",
    "           column = sorted(list(big_df.columns.tolist())))\n"
   ]
  },
  {
   "cell_type": "code",
   "execution_count": null,
   "metadata": {
    "collapsed": true
   },
   "outputs": [],
   "source": []
  }
 ],
 "metadata": {
  "kernelspec": {
   "display_name": "Python 2",
   "language": "python",
   "name": "python2"
  },
  "language_info": {
   "codemirror_mode": {
    "name": "ipython",
    "version": 2
   },
   "file_extension": ".py",
   "mimetype": "text/x-python",
   "name": "python",
   "nbconvert_exporter": "python",
   "pygments_lexer": "ipython2",
   "version": "2.7.12"
  }
 },
 "nbformat": 4,
 "nbformat_minor": 0
}
