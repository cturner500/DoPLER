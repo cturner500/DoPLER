{
 "cells": [
  {
   "cell_type": "markdown",
   "metadata": {},
   "source": [
    "# fii merge csvs notebook\n",
    "\n",
    "Objective\n",
    "\n",
    "FII Data has been moved from XLSX to csv format, now load it all into a single table and take a look\n",
    "\n",
    " \n",
    "Data selection\n",
    " * choosing to ignore data other than Uganda and Tanzania and Nigeria and Kenya\n",
    " * Using Wave 3 surveys only\n",
    " * limiting columns to those selected for analysis.  See notebook \"Columns for analysis\"\n"
   ]
  },
  {
   "cell_type": "code",
   "execution_count": 1,
   "metadata": {
    "collapsed": false
   },
   "outputs": [
    {
     "name": "stdout",
     "output_type": "stream",
     "text": [
      "\r\n",
      "\r\n",
      "Questions retained for analysis\r\n",
      "\r\n",
      " Set 1 Basic demographics\r\n",
      " Set 2 Mobile and Mobile money usage\r\n",
      " Set 3 Retention (longitudinal) \r\n",
      "\r\n",
      "\r\n",
      "Wave 3\r\n"
     ]
    }
   ],
   "source": [
    "!head columns_for_analysis"
   ]
  },
  {
   "cell_type": "code",
   "execution_count": 2,
   "metadata": {
    "collapsed": false
   },
   "outputs": [
    {
     "name": "stderr",
     "output_type": "stream",
     "text": [
      "/home/aman/anaconda/lib/python2.7/site-packages/matplotlib/__init__.py:872: UserWarning: axes.color_cycle is deprecated and replaced with axes.prop_cycle; please use the latter.\n",
      "  warnings.warn(self.msg_depr % (key, alt_key))\n"
     ]
    }
   ],
   "source": [
    "import os\n",
    "import pandas as pd\n",
    "import numpy as np\n",
    "\n",
    "source_data_dir = 'Data/fii_csv/'\n",
    "\n",
    "%matplotlib inline\n",
    "import matplotlib.pyplot as plt\n",
    "import seaborn as sns\n"
   ]
  },
  {
   "cell_type": "code",
   "execution_count": 3,
   "metadata": {
    "collapsed": false
   },
   "outputs": [
    {
     "data": {
      "text/plain": [
       "['fsp_final_nigeria_w3_(public).csv',\n",
       " 'fsp_final_kenya_w3_(public).csv',\n",
       " 'fsp_final_tanzania_w3_(public).csv',\n",
       " 'fsp_final_uganda_w3_(public).csv']"
      ]
     },
     "execution_count": 3,
     "metadata": {},
     "output_type": "execute_result"
    }
   ],
   "source": [
    "csv_files = os.listdir(source_data_dir)\n",
    "\n",
    "# We only care about these countries right now right now\n",
    "keep_countries = ['uganda', 'tanzania', 'nigeria', 'kenya']\n",
    "csv_files = [f for f in csv_files\n",
    "             if any([country in f for country in keep_countries])\n",
    "            ]\n",
    "\n",
    "# keep wave 3 only\n",
    "csv_files = [f for f in csv_files if 'w3' in f]\n",
    "\n",
    "csv_files"
   ]
  },
  {
   "cell_type": "code",
   "execution_count": 4,
   "metadata": {
    "collapsed": false
   },
   "outputs": [
    {
     "name": "stdout",
     "output_type": "stream",
     "text": [
      "Test\n",
      "fsp_final_uganda_w3_(public).csv --> uganda\n"
     ]
    }
   ],
   "source": [
    "import re\n",
    "\n",
    "def get_country_from_filename(filename):\n",
    "    \"\"\"utility function to extract the country name from the filename\"\"\"\n",
    "    spl = re.split('[_ -]', filename)\n",
    "    idx = spl.index('final') + 1\n",
    "    return spl[idx]\n",
    "\n",
    "# test\n",
    "print \"Test\\n{} --> {}\".format(\n",
    "    'fsp_final_uganda_w3_(public).csv',\n",
    "    get_country_from_filename('fsp_final_uganda_w3_(public).csv')\n",
    "    )"
   ]
  },
  {
   "cell_type": "code",
   "execution_count": 5,
   "metadata": {
    "collapsed": false
   },
   "outputs": [
    {
     "name": "stdout",
     "output_type": "stream",
     "text": [
      "Loading Data/fii_csv/fsp_final_nigeria_w3_(public).csv.\n",
      "Loading Data/fii_csv/fsp_final_kenya_w3_(public).csv.\n",
      "Loading Data/fii_csv/fsp_final_tanzania_w3_(public).csv.\n",
      "Loading Data/fii_csv/fsp_final_uganda_w3_(public).csv."
     ]
    },
    {
     "name": "stderr",
     "output_type": "stream",
     "text": [
      "/home/aman/anaconda/lib/python2.7/site-packages/IPython/core/interactiveshell.py:2902: DtypeWarning: Columns (873) have mixed types. Specify dtype option on import or set low_memory=False.\n",
      "  interactivity=interactivity, compiler=compiler, result=result)\n",
      "/home/aman/anaconda/lib/python2.7/site-packages/IPython/core/interactiveshell.py:2902: DtypeWarning: Columns (828) have mixed types. Specify dtype option on import or set low_memory=False.\n",
      "  interactivity=interactivity, compiler=compiler, result=result)\n"
     ]
    },
    {
     "name": "stdout",
     "output_type": "stream",
     "text": [
      "\n",
      "Done loading 4 files.\n"
     ]
    }
   ],
   "source": [
    "all_dfs = []\n",
    "for csv_file in csv_files:\n",
    "    path = os.path.join(source_data_dir, csv_file)\n",
    "    print \"Loading {}.\".format(path)\n",
    "    \n",
    "    df = pd.read_table(path, \n",
    "                       sep=',',\n",
    "                      )\n",
    "    \n",
    "    df['country'] = get_country_from_filename(csv_file)\n",
    "    df['source_filename'] = csv_file\n",
    "    \n",
    "    # consistent capitalization across all columns\n",
    "    cols_load = df.columns.tolist()\n",
    "    cols_renamed = [c.lower() for c in cols_load]\n",
    "    df = df.rename(columns=dict(zip(cols_load, cols_renamed)))\n",
    "    \n",
    "    all_dfs.append(df)\n",
    "\n",
    "print \"Done loading {} files.\".format(len(all_dfs))"
   ]
  },
  {
   "cell_type": "markdown",
   "metadata": {},
   "source": [
    "### Attempting cleanup"
   ]
  },
  {
   "cell_type": "code",
   "execution_count": 6,
   "metadata": {
    "collapsed": false
   },
   "outputs": [
    {
     "name": "stdout",
     "output_type": "stream",
     "text": [
      "fsp_final_nigeria_w3_(public).csv                  : (6001, 1033)\n",
      "fsp_final_kenya_w3_(public).csv                    : (2994, 1090)\n",
      "fsp_final_tanzania_w3_(public).csv                 : (3001, 983)\n",
      "fsp_final_uganda_w3_(public).csv                   : (3000, 998)\n"
     ]
    }
   ],
   "source": [
    "#Check shapes of each little dataframe\n",
    "for df in all_dfs:\n",
    "    print \"{:<50} : {}\".format(df.source_filename[0], df.shape)"
   ]
  },
  {
   "cell_type": "code",
   "execution_count": 7,
   "metadata": {
    "collapsed": false
   },
   "outputs": [
    {
     "name": "stdout",
     "output_type": "stream",
     "text": [
      "(14996, 1185)\n"
     ]
    }
   ],
   "source": [
    "# if we just merge all these directly, we get: \n",
    "big_df = pd.concat(all_dfs)\n",
    "print big_df.shape\n",
    "del big_df"
   ]
  },
  {
   "cell_type": "markdown",
   "metadata": {},
   "source": [
    "# Columns"
   ]
  },
  {
   "cell_type": "code",
   "execution_count": 8,
   "metadata": {
    "collapsed": false
   },
   "outputs": [
    {
     "name": "stdout",
     "output_type": "stream",
     "text": [
      "Columns\n",
      "Intersection / And : 939\n",
      "Disjoint / difference : 64\n",
      "Union / OR      : 1185\n"
     ]
    }
   ],
   "source": [
    "print \"Columns\"\n",
    "\n",
    "cols_array = [df.columns.tolist() for df in all_dfs]\n",
    "\n",
    "print \"{:<15} : {}\".format(\n",
    "    \"Intersection / And\",\n",
    "    len(set.intersection(*map(set,cols_array)))\n",
    "    )\n",
    "\n",
    "print \"{:15} : {}\".format(\n",
    "    \"Disjoint / difference\",\n",
    "    len(set.difference(*map(set,cols_array)))\n",
    "    )\n",
    "\n",
    "print \"{:15} : {}\".format(\n",
    "    \"Union / OR\", \n",
    "    len(set.union(*map(set,cols_array)))\n",
    "    )\n",
    "\n",
    "all_columns_union = set.union(*map(set,cols_array))"
   ]
  },
  {
   "cell_type": "raw",
   "metadata": {},
   "source": [
    "set.intersection(*map(set,cols_array)) - set(keep_cols)"
   ]
  },
  {
   "cell_type": "code",
   "execution_count": 12,
   "metadata": {
    "collapsed": false
   },
   "outputs": [
    {
     "name": "stdout",
     "output_type": "stream",
     "text": [
      "nigeria\n",
      "['mm5_1', 'mm5_2', 'mm5_3', 'mm5_4', 'mm5_5', 'mm5_6', 'mm5_7', 'mm5_8', 'mm5_9', 'mm5_10', 'mm5_11', 'mm5_12', 'mm5_13', 'mm5_14']\n",
      "kenya\n",
      "['mm5_1', 'mm5_2', 'mm5_3', 'mm5_4', 'mm5_5', 'mm5_6', 'mm5_7', 'mm5_8']\n",
      "tanzania\n",
      "['mm5_1', 'mm5_2', 'mm5_3', 'mm5_4', 'mm5_5', 'mm5_6']\n",
      "uganda\n",
      "['mm5_1', 'mm5_2', 'mm5_3', 'mm5_4', 'mm5_5', 'mm5_6', 'mm5_7', 'mm5_8']\n"
     ]
    }
   ],
   "source": [
    "\n",
    "# search in df columnsa\n",
    "search_string = 'mm5'\n",
    "for idf in all_dfs:\n",
    "    #print idf.columns.tolist()\n",
    "    print idf.country[0]\n",
    "    print [c for c in idf.columns.tolist() if search_string in c.lower()]\n",
    "    "
   ]
  },
  {
   "cell_type": "code",
   "execution_count": 9,
   "metadata": {
    "collapsed": false
   },
   "outputs": [],
   "source": [
    "code_book_dict = {\n",
    "    # Taken from ffi codebook by manual inspection \n",
    "    # see 'columns for analysis'\n",
    "    # \n",
    "    # Custom\n",
    "    'source_filename': 'source_filename',\n",
    "    'country': 'country',\n",
    "    \n",
    "    # Set 1\n",
    "    # ----------------\n",
    "    'DG1'  : 'year_of_birth',\n",
    "    'DG2'  : 'gender',\n",
    "    'DG3'  : 'marital_status',\n",
    "    'DG4'  : 'education_level',\n",
    "    \n",
    "    \n",
    "    # Set 2\n",
    "    # ----------------\n",
    "    'MM1'  : 'heard_of_mobile_money',\n",
    "    \n",
    "    #'MM4'  : 'ever_used_any_mobile_money_service',\n",
    "    'MM4_1'  : 'ever_used_any_mobile_money_service|serv1',\n",
    "    'MM4_2'  : 'ever_used_any_mobile_money_service|serv2',\n",
    "    'MM4_3'  : 'ever_used_any_mobile_money_service|serv3',\n",
    "    'MM4_4'  : 'ever_used_any_mobile_money_service|serv4',\n",
    "    'MM4_5'  : 'ever_used_any_mobile_money_service|serv5',\n",
    "    'MM4_6'  : 'ever_used_any_mobile_money_service|serv6',\n",
    "    'MM4_7'  : 'ever_used_any_mobile_money_service|serv7',\n",
    "    'MM4_8'  : 'ever_used_any_mobile_money_service|serv8',\n",
    "    'MM4_9'  : 'ever_used_any_mobile_money_service|serv9',\n",
    "    'MM4_10'  : 'ever_used_any_mobile_money_service|serv10',\n",
    "    'MM4_11'  : 'ever_used_any_mobile_money_service|serv11',\n",
    "    'MM4_12'  : 'ever_used_any_mobile_money_service|serv12',\n",
    "    'MM4_13'  : 'ever_used_any_mobile_money_service|serv13',\n",
    "    'MM4_14'  : 'ever_used_any_mobile_money_service|serv14',\n",
    "    \n",
    "    #'MM6'  : 'have_account_with_any_mobile_money_service',\n",
    "    'MM6_1'  : 'have_account_with_any_mobile_money_service|serv1',\n",
    "    'MM6_2'  : 'have_account_with_any_mobile_money_service|serv2',\n",
    "    'MM6_3'  : 'have_account_with_any_mobile_money_service|serv3',\n",
    "    'MM6_4'  : 'have_account_with_any_mobile_money_service|serv4',\n",
    "    'MM6_5'  : 'have_account_with_any_mobile_money_service|serv5',\n",
    "    'MM6_6'  : 'have_account_with_any_mobile_money_service|serv6',\n",
    "    'MM6_7'  : 'have_account_with_any_mobile_money_service|serv7',\n",
    "    'MM6_8'  : 'have_account_with_any_mobile_money_service|serv8',\n",
    "    'MM6_9'  : 'have_account_with_any_mobile_money_service|serv9',\n",
    "    'MM6_10'  : 'have_account_with_any_mobile_money_service|serv10',\n",
    "    'MM6_11'  : 'have_account_with_any_mobile_money_service|serv11',\n",
    "    'MM6_12'  : 'have_account_with_any_mobile_money_service|serv12',\n",
    "    'MM6_13'  : 'have_account_with_any_mobile_money_service|serv13',\n",
    "    'MM6_14'  : 'have_account_with_any_mobile_money_service|serv14',\n",
    "    \n",
    "    'MM10' : 'biggest_challenge_with_mobile_money',\n",
    "    'MM12' : 'reason_never_used_mobile_money',\n",
    "    \n",
    "    #'MM15' : 'ever_used_mobile_money_for_this_activity',\n",
    "    'MM15_1' : 'ever_used_mobile_money_for|deposit',\n",
    "    'MM15_2' : 'ever_used_mobile_money_for|withdraw',\n",
    "    'MM15_3' : 'ever_used_mobile_money_for|paymobilebill',\n",
    "    'MM15_4' : 'ever_used_mobile_money_for|payschoolfee',\n",
    "    'MM15_5' : 'ever_used_mobile_money_for|paymedical',\n",
    "    'MM15_6' : 'ever_used_mobile_money_for|payelectrical',\n",
    "    'MM15_7' : 'ever_used_mobile_money_for|paywater',\n",
    "    'MM15_8' : 'ever_used_mobile_money_for|paysolar',\n",
    "    'MM15_9' : 'ever_used_mobile_money_for|paytv',\n",
    "    'MM15_10' : 'ever_used_mobile_money_for|paygovt',\n",
    "    'MM15_11' : 'ever_used_mobile_money_for|sendmoneyindiv',\n",
    "    'MM15_12' : 'ever_used_mobile_money_for|getmoneyindiv',\n",
    "    'MM15_13' : 'ever_used_mobile_money_for|getmoneygovt',\n",
    "    'MM15_14' : 'ever_used_mobile_money_for|getwages',\n",
    "    'MM15_15' : 'ever_used_mobile_money_for|paylarge',\n",
    "    'MM15_16' : 'ever_used_mobile_money_for|payinsurance',\n",
    "    'MM15_17' : 'ever_used_mobile_money_for|payloan',\n",
    "    'MM15_18' : 'ever_used_mobile_money_for|savemoney',\n",
    "    'MM15_19' : 'ever_used_mobile_money_for|setasidepension',\n",
    "    'MM15_20' : 'ever_used_mobile_money_for|setasideother',\n",
    "    'MM15_21' : 'ever_used_mobile_money_for|makeinvestment',\n",
    "    'MM15_22' : 'ever_used_mobile_money_for|payatstore',\n",
    "    'MM15_23' : 'ever_used_mobile_money_for|transfermobile',\n",
    "    'MM15_24' : 'ever_used_mobile_money_for|transferbank',\n",
    "    'MM15_25' : 'ever_used_mobile_money_for|transfermobiletoother',\n",
    "    'MM15_26' : 'ever_used_mobile_money_for|lendinggroup',\n",
    "    'MM15_27' : 'ever_used_mobile_money_for|payrent',\n",
    "    'MM15_28' : 'ever_used_mobile_money_for|accountmaint',\n",
    "    'MM15_29' : 'ever_used_mobile_money_for|other',\n",
    "    \n",
    "    # Set 3\n",
    "    # ----------------\n",
    "    \n",
    "    #'MM5'  : 'last_time_financial_activity_with_mobile_money',\n",
    "    'MM5_1'  : 'last_time_fin_activity_w_mobile_money|serv1',\n",
    "    'MM5_2'  : 'last_time_fin_activity_w_mobile_money|serv2',\n",
    "    'MM5_3'  : 'last_time_fin_activity_w_mobile_money|serv3',\n",
    "    'MM5_4'  : 'last_time_fin_activity_w_mobile_money|serv4',\n",
    "    'MM5_5'  : 'last_time_fin_activity_w_mobile_money|serv5',\n",
    "    'MM5_6'  : 'last_time_fin_activity_w_mobile_money|serv6',\n",
    "    'MM5_7'  : 'last_time_fin_activity_w_mobile_money|serv7',\n",
    "    'MM5_8'  : 'last_time_fin_activity_w_mobile_money|serv8',\n",
    "    'MM5_9'  : 'last_time_fin_activity_w_mobile_money|serv9',\n",
    "    'MM5_10' : 'last_time_fin_activity_w_mobile_money|serv10',\n",
    "    'MM5_11' : 'last_time_fin_activity_w_mobile_money|serv11',\n",
    "    'MM5_12' : 'last_time_fin_activity_w_mobile_money|serv12',\n",
    "    'MM5_13' : 'last_time_fin_activity_w_mobile_money|serv13',\n",
    "    'MM5_14' : 'last_time_fin_activity_w_mobile_money|serv14',\n",
    "    \n",
    "    #'MM8'  : 'last_time_financial_activity_using_account',\n",
    "    'MM8_1'  : 'last_time_financial_activity_using_account|serv1',\n",
    "    'MM8_2'  : 'last_time_financial_activity_using_account|serv2',\n",
    "    'MM8_3'  : 'last_time_financial_activity_using_account|serv3',\n",
    "    'MM8_4'  : 'last_time_financial_activity_using_account|serv4',\n",
    "    'MM8_5'  : 'last_time_financial_activity_using_account|serv5',\n",
    "    'MM8_6'  : 'last_time_financial_activity_using_account|serv6',\n",
    "    'MM8_7'  : 'last_time_financial_activity_using_account|serv7',\n",
    "    'MM8_8'  : 'last_time_financial_activity_using_account|serv8',\n",
    "    'MM8_9'  : 'last_time_financial_activity_using_account|serv9',\n",
    "    'MM8_10'  : 'last_time_financial_activity_using_account|serv10',\n",
    "    'MM8_11'  : 'last_time_financial_activity_using_account|serv11',\n",
    "    'MM8_12'  : 'last_time_financial_activity_using_account|serv12',\n",
    "    'MM8_13'  : 'last_time_financial_activity_using_account|serv13',\n",
    "    'MM8_14'  : 'last_time_financial_activity_using_account|serv14',\n",
    "    \n",
    "    #'MM17' : 'how_often_use_mobile_money_for_this_activity',\n",
    "    'MM17_1'  : 'how_often_use_mobile_money_for|deposit',\n",
    "    'MM17_2'  : 'how_often_use_mobile_money_for|withdraw',\n",
    "    'MM17_3'  : 'how_often_use_mobile_money_for|paymobilebill',\n",
    "    'MM17_4'  : 'how_often_use_mobile_money_for|payschoolfee',\n",
    "    'MM17_5'  : 'how_often_use_mobile_money_for|paymedical',\n",
    "    'MM17_6'  : 'how_often_use_mobile_money_for|payelectrical',\n",
    "    'MM17_7'  : 'how_often_use_mobile_money_for|paywater',\n",
    "    'MM17_8'  : 'how_often_use_mobile_money_for|paysolar',\n",
    "    'MM17_9'  : 'how_often_use_mobile_money_for|paytv',\n",
    "    'MM17_10' : 'how_often_use_mobile_money_for|paygovt',\n",
    "    'MM17_11' : 'how_often_use_mobile_money_for|sendmoneyindiv',\n",
    "    'MM17_12' : 'how_often_use_mobile_money_for|getmoneyindiv',\n",
    "    'MM17_13' : 'how_often_use_mobile_money_for|getmoneygovt',\n",
    "    'MM17_14' : 'how_often_use_mobile_money_for|getwages',\n",
    "    'MM17_15' : 'how_often_use_mobile_money_for|paylarge',\n",
    "    'MM17_16' : 'how_often_use_mobile_money_for|payinsurance',\n",
    "    'MM17_17' : 'how_often_use_mobile_money_for|payloan',\n",
    "    'MM17_18' : 'how_often_use_mobile_money_for|savemoney',\n",
    "    'MM17_19' : 'how_often_use_mobile_money_for|setasidepension',\n",
    "    'MM17_20' : 'how_often_use_mobile_money_for|setasideother',\n",
    "    'MM17_21' : 'how_often_use_mobile_money_for|makeinvestment',\n",
    "    'MM17_22' : 'how_often_use_mobile_money_for|payatstore',\n",
    "    'MM17_23' : 'how_often_use_mobile_money_for|transfermobile',\n",
    "    'MM17_24' : 'how_often_use_mobile_money_for|transferbank',\n",
    "    'MM17_25' : 'how_often_use_mobile_money_for|transfermobiletoother',\n",
    "    'MM17_26' : 'how_often_use_mobile_money_for|lendinggroup',\n",
    "    'MM17_27' : 'how_often_use_mobile_money_for|payrent',\n",
    "    'MM17_28' : 'how_often_use_mobile_money_for|accountmaint',\n",
    "    'MM17_29' : 'how_often_use_mobile_money_for|other',\n",
    "    \n",
    "    'MM9'  : 'how_long_using_mobile_money',\n",
    "    \n",
    "    # IFI1\n",
    "    # IFI2\n",
    "    # IFI3\n",
    "    # IFI4\n",
    "    # IFI10\n",
    "    # IFI11\n",
    "    # IFI12\n",
    "    # IFI13    \n",
    "}\n",
    "\n",
    "# make all lower case\n",
    "code_book_dict = {k.lower(): v for k, v in code_book_dict.items()}\n",
    "\n",
    "\"\"\"\n",
    "These are human readable columns in all dataframes\n",
    "Found by printing column names intersection\n",
    ">>> set.intersection(*map(set,cols_array))\n",
    "and filtering manually\n",
    "\"\"\"\n",
    "human_readable_columns = [\n",
    "    'access_bank_full',\n",
    "    'access_mm',\n",
    "    'access_mm_and_bank_full',\n",
    "    'access_mm_or_bank_full',\n",
    "    'access_phone',\n",
    "    'access_phone_sim',\n",
    "    'active_bank_full',\n",
    "    'active_mm',\n",
    "    'active_mm_and_bank_full',\n",
    "    'active_mm_or_bank_full',\n",
    "    'active_nonreg_mm',\n",
    "    'age',\n",
    "    'age_group',\n",
    "    'aware_mm',\n",
    "    'aware_mm_provider',\n",
    "    'business_bank',\n",
    "    'business_bank_and_mm',\n",
    "    'business_bank_or_mm',\n",
    "    'business_mm',\n",
    "    'lapsed_nonreg_mm',\n",
    "    'lapsed_registered_mm',\n",
    "    'literacy',\n",
    "    'nonregistered_bank_full',\n",
    "    'nonregistered_mm',\n",
    "    'nonregistered_mm_and_bank_full',\n",
    "    'nonregistered_mm_or_bank_full',\n",
    "    'nonuser_bank_full',\n",
    "    'nonuser_mm',\n",
    "    'nonuser_mm_bank_full',\n",
    "    'numeracy',\n",
    "    'own_phone_sim',\n",
    "    'ppi_cutoff',\n",
    "    'ppi_score',\n",
    "    'registered_bank_full',\n",
    "    'registered_mm',\n",
    "    'registered_mm_and_bank_full',\n",
    "    'registered_mm_or_bank_full',\n",
    "    'rural_females',\n",
    "    'rural_males',\n",
    "    'rural_poor',\n",
    "    'ur',\n",
    "    'weight'\n",
    "]"
   ]
  },
  {
   "cell_type": "code",
   "execution_count": null,
   "metadata": {
    "collapsed": false
   },
   "outputs": [],
   "source": [
    "# from codebook\n",
    "keep_cols = list(code_book_dict.viewkeys())\n",
    "\n",
    "# from human readable list\n",
    "# I DO NOT TRUST THESE \"human readable columns\" #AA 20160910\n",
    "# keep_cols = keep_cols + human_readable_columns\n",
    "\n",
    "print \"Keeping these columns: \", keep_cols\n",
    "\n",
    "print \"\\nWarning!\",\n",
    "print \"These columns not found in all dfs:\"\n",
    "for col in sorted(keep_cols):\n",
    "    if not all([col in idf.columns.tolist() for idf in all_dfs]):\n",
    "        print col\n",
    "\n"
   ]
  },
  {
   "cell_type": "code",
   "execution_count": null,
   "metadata": {
    "collapsed": false
   },
   "outputs": [],
   "source": [
    "# sanity check col names\n",
    "# should return nothing\n",
    "for col in keep_cols:\n",
    "    if not col in all_dfs[0].columns.tolist():\n",
    "        print col"
   ]
  },
  {
   "cell_type": "markdown",
   "metadata": {},
   "source": [
    "# DO the work here\n",
    "\n",
    " * Here we construct the dataframe, finally\n",
    " * combine dataframes for each csv\n",
    " * keep only the columns specified above\n",
    " * dump to csv\n",
    " \n"
   ]
  },
  {
   "cell_type": "code",
   "execution_count": null,
   "metadata": {
    "collapsed": false
   },
   "outputs": [],
   "source": [
    "# only keep columns we care about in each df\n",
    "# must do this before merging df due to memory constraints\n",
    "\n",
    "def drop_extra_cols(df, keep_cols):\n",
    "    \n",
    "    df_cols = df.columns.tolist()\n",
    "    intersect_cols = set(df_cols).intersection(keep_cols)\n",
    "    \n",
    "    return df[list(intersect_cols)]\n",
    "\n",
    "# drop columns in each dataframe\n",
    "all_dfs_dropped_cols = [drop_extra_cols(df, keep_cols) for df in all_dfs]\n",
    "\n",
    "# concatenate all dataframes into one\n",
    "big_df = pd.concat(all_dfs_dropped_cols)\n",
    "\n",
    "# rename columns from codebook\n",
    "big_df = big_df.rename(columns=code_book_dict)\n",
    "\n",
    "\n",
    "print big_df.shape"
   ]
  },
  {
   "cell_type": "code",
   "execution_count": null,
   "metadata": {
    "collapsed": true
   },
   "outputs": [],
   "source": [
    "## dump to csv\n",
    "\n",
    "big_df.to_csv('Data/merged_fii_data_wave3_20160910.csv', )"
   ]
  },
  {
   "cell_type": "code",
   "execution_count": null,
   "metadata": {
    "collapsed": false
   },
   "outputs": [],
   "source": [
    "big_df.country.value_counts()"
   ]
  },
  {
   "cell_type": "code",
   "execution_count": null,
   "metadata": {
    "collapsed": false
   },
   "outputs": [],
   "source": [
    "big_df['country'].unique()"
   ]
  },
  {
   "cell_type": "code",
   "execution_count": null,
   "metadata": {
    "collapsed": false
   },
   "outputs": [],
   "source": [
    "# quick test\n",
    "col='year_of_birth'\n",
    "ax = big_df[col].plot(kind='kde', title=col, figsize=(10,4))"
   ]
  },
  {
   "cell_type": "raw",
   "metadata": {},
   "source": [
    "# Plotting by seaborn\n",
    "ax = sns.boxplot(df[mask].age, groupby=df[mask].country)"
   ]
  },
  {
   "cell_type": "code",
   "execution_count": null,
   "metadata": {
    "collapsed": true
   },
   "outputs": [],
   "source": [
    "import ipywidgets"
   ]
  },
  {
   "cell_type": "code",
   "execution_count": null,
   "metadata": {
    "collapsed": false
   },
   "outputs": [],
   "source": [
    "\n",
    "select_column = ipywidgets.Select(\n",
    "    options=sorted(list(big_df.columns.tolist())),\n",
    "    description = \"Select a column.\")\n",
    "\n",
    "select_column"
   ]
  },
  {
   "cell_type": "code",
   "execution_count": null,
   "metadata": {
    "collapsed": false
   },
   "outputs": [],
   "source": [
    "\n",
    "def plot_var_across_country(column, ):\n",
    "    fig, axes = plt.subplots(nrows=2, ncols=2, figsize=(15,4), \n",
    "                             sharex=True, \n",
    "                             sharey=True\n",
    "                            )\n",
    "    axlist = axes.flatten()\n",
    "\n",
    "    column_type_mapping = {\n",
    "            # column name   ---- type of plot\n",
    "            'marital status': 'hist'\n",
    "        }\n",
    "\n",
    "    for idx, country in enumerate(keep_countries):\n",
    "        ax = axlist[idx]\n",
    "        mask = (big_df.country == country)\n",
    "\n",
    "        column_type = column_type_mapping.get(column, 'hist')\n",
    "\n",
    "        big_df[mask][column]\\\n",
    "            .plot(\n",
    "                    kind='hist', \n",
    "                    title='{} for {}'.format(column, country),\n",
    "                    alpha=0.6,\n",
    "                    ax=ax,\n",
    "                )\n",
    "\n",
    "        # BAR PLOT\n",
    "#         if column_type=='bar':\n",
    "#             big_df[mask][column]\\\n",
    "#                 .plot(\n",
    "#                     kind='bar', \n",
    "#                     title='{} for {}'.format(column, country),\n",
    "#                     alpha=0.6,\n",
    "#                     ax=ax,\n",
    "#                 )\n",
    "\n",
    "#         # DEFAULT PLOT (hist)\n",
    "#         else: \n",
    "#             big_df[mask][column]\\\n",
    "#                 .plot(\n",
    "#                     kind='hist', \n",
    "#                     title='{} for {}'.format(column, country),\n",
    "#                     alpha=0.6,\n",
    "#                     ax=ax,\n",
    "#                 )\n",
    "#         #ax.set_xlim(0,100)\n",
    "        \n",
    "    return ax\n",
    "\n",
    "tt = ipywidgets.interact(plot_var_across_country, \n",
    "           column = sorted(list(big_df.columns.tolist())))\n"
   ]
  },
  {
   "cell_type": "code",
   "execution_count": null,
   "metadata": {
    "collapsed": false
   },
   "outputs": [],
   "source": [
    "big_df['last_time_fin_activity_w_mobile_money|yesterday'].unique()"
   ]
  },
  {
   "cell_type": "code",
   "execution_count": null,
   "metadata": {
    "collapsed": true
   },
   "outputs": [],
   "source": [
    "\n",
    "\n",
    "\n",
    "\n",
    "\n",
    "\n",
    "\n",
    "\n",
    "\n",
    "\n",
    "\n",
    "\n",
    "\n",
    "\n",
    "\n",
    "\n",
    "\n",
    "\n",
    "\n",
    "\n",
    "\n",
    "\n",
    "\n",
    "\n",
    "\n",
    "\n",
    "\n",
    "\n",
    "\n",
    "\n",
    "\n",
    "\n",
    "\n",
    "\n",
    "\n",
    "\n",
    "\n",
    "\n",
    "\n",
    "\n",
    "\n",
    "\n",
    "\n",
    "\n",
    "\n",
    "\n",
    "\n",
    "\n",
    "\n",
    "\n",
    "\n",
    "\n",
    "\n",
    "\n",
    "\n",
    "\n",
    "\n",
    "\n",
    "\n",
    "\n",
    "\n",
    "\n",
    "\n",
    "\n",
    "\n",
    "\n",
    "\n",
    "\n",
    "\n",
    "\n",
    "\n",
    "\n",
    "\n",
    "\n",
    "\n",
    "\n",
    "\n",
    "\n",
    "\n",
    "\n",
    "\n",
    "\n",
    "\n",
    "\n",
    "\n",
    "\n",
    "\n",
    "\n",
    "\n",
    "\n",
    "\n",
    "\n",
    "\n",
    "\n",
    "\n"
   ]
  }
 ],
 "metadata": {
  "kernelspec": {
   "display_name": "Python 2",
   "language": "python",
   "name": "python2"
  },
  "language_info": {
   "codemirror_mode": {
    "name": "ipython",
    "version": 2
   },
   "file_extension": ".py",
   "mimetype": "text/x-python",
   "name": "python",
   "nbconvert_exporter": "python",
   "pygments_lexer": "ipython2",
   "version": "2.7.12"
  }
 },
 "nbformat": 4,
 "nbformat_minor": 0
}
