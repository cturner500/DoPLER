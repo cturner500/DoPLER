{
 "cells": [
  {
   "cell_type": "markdown",
   "metadata": {},
   "source": [
    "# FII Processing notebook\n",
    "\n",
    "Objective: \n",
    "\n",
    "FII data is in xlsx spreadsheets. Goal is to make this data easier to work with. \n",
    "\n",
    "Raw data (desciption / notes)\n",
    " - FII data is broken down in a directory structure\n",
    " - directory structure indicates \"wave\" of surveys\n",
    " - filename indicates country of origin, wave #, date\n",
    " - each dataset has three files: XLSX format data (MS Excel), SAV format data (SAS), and a legend for columns in XLS format (MS Excel)\n",
    " - Excel files have a single worksheet. \n",
    "\n",
    "Desired output: \n",
    " - everything in one giant table (Hd5?) \n",
    "\n",
    "Questions: \n",
    " - different legend files for each country. Does that mean columns or data elements mean different things in each country's survey? If so, cannot merge datasets trivially. \n",
    " \n",
    " \n",
    "Progress:\n",
    " - Convert each XLSX into CSV format\n",
    "\n"
   ]
  },
  {
   "cell_type": "code",
   "execution_count": 1,
   "metadata": {
    "collapsed": true
   },
   "outputs": [],
   "source": [
    "import os\n",
    "import sys \n",
    "\n",
    "# where xlsx files come from. Provide root, will crawl\n",
    "source_dir = '../data/FII'\n",
    "\n",
    "# where to place csv files afer conversion. Will flatten source dirs\n",
    "dest_dir = '../data/fii_csv/'"
   ]
  },
  {
   "cell_type": "markdown",
   "metadata": {},
   "source": [
    "## Get all source data file names and paths"
   ]
  },
  {
   "cell_type": "code",
   "execution_count": 2,
   "metadata": {
    "collapsed": false
   },
   "outputs": [
    {
     "data": {
      "text/plain": [
       "['FII Datasets - Wave 3', 'FII Datasets - Wave 2', 'FII Datasets - Wave 1']"
      ]
     },
     "execution_count": 2,
     "metadata": {},
     "output_type": "execute_result"
    }
   ],
   "source": [
    "os.listdir(source_dir)"
   ]
  },
  {
   "cell_type": "code",
   "execution_count": 3,
   "metadata": {
    "collapsed": false
   },
   "outputs": [
    {
     "name": "stdout",
     "output_type": "stream",
     "text": [
      "../data/FII/FII Datasets - Wave 3/FSP_Final_Kenya_W3 (public).xlsx\n",
      "../data/FII/FII Datasets - Wave 3/FSP_Final_Indonesia_W2 (public).xlsx\n",
      "../data/FII/FII Datasets - Wave 3/FSP_Final_Tanzania_W3 (public).xlsx\n",
      "../data/FII/FII Datasets - Wave 3/FSP_Final_Bangladesh_W3 (public).xlsx\n",
      "../data/FII/FII Datasets - Wave 3/FSP_Final_India_W3 (public).xlsx\n",
      "../data/FII/FII Datasets - Wave 3/FSP_Final_Pakistan_W3 (public).xlsx\n",
      "../data/FII/FII Datasets - Wave 3/FSP_Final_Uganda_W3 (public).xlsx\n",
      "../data/FII/FII Datasets - Wave 3/FSP_Final_Nigeria_W3 (public).xlsx\n",
      "../data/FII/FII Datasets - Wave 2/FSP_Final_Tanzania_w2_12182014(public).xlsx\n",
      "../data/FII/FII Datasets - Wave 2/FSP_Final_Uganda_W2_10312015(public).xlsx\n",
      "../data/FII/FII Datasets - Wave 2/FSP_Final_India_w2_02242015 (public).xlsx\n",
      "../data/FII/FII Datasets - Wave 2/FSP_Final_Nigeria_w2_11182014(public).xlsx\n",
      "../data/FII/FII Datasets - Wave 2/FSP_Final_Kenya_w2_12092014(public).xlsx\n",
      "../data/FII/FII Datasets - Wave 2/FSP_Final_Bangladesh_w2_10162014(public).xlsx\n",
      "../data/FII/FII Datasets - Wave 2/FSP_Final_Pakistan_W2_01072015(public).xlsx\n",
      "../data/FII/FII Datasets - Wave 1/Final_India-FII wave1_06-03-2014(Public).xlsx\n",
      "../data/FII/FII Datasets - Wave 1/Final_Uganda-FII-wave 1_7-8-2014(public).xlsx\n",
      "../data/FII/FII Datasets - Wave 1/Final_Pakistan-FII-wave 1_06-03-2014(public).xlsx\n",
      "../data/FII/FII Datasets - Wave 1/Final_Bangladesh-FII-wave 1_06-03-2014(public).xlsx\n",
      "../data/FII/FII Datasets - Wave 1/Final_Tanzania-FII-wave1_06-09-2014(public).xlsx\n",
      "../data/FII/FII Datasets - Wave 1/Final_Kenya-FII WAVE 1_06-03-2014(public).xlsx\n",
      "../data/FII/FII Datasets - Wave 1/Final_Nigeria-FII-wave 1-06-28-2014(public).xlsx\n"
     ]
    }
   ],
   "source": [
    "\"\"\"\n",
    "# get full path of all xls files\n",
    "\"\"\"\n",
    "all_xls_files = []\n",
    "for root, dirs, files in os.walk(source_dir):\n",
    "    xls_files = [f for f in files if f.endswith('xlsx')]\n",
    "    \n",
    "#     if len(xls_files) > 0: \n",
    "#         print len(xls_files)\n",
    "#         print root\n",
    "#         print dirs\n",
    "#         print os.path.join(root, xls_files[0])\n",
    "\n",
    "    xls_files = [os.path.join(root, f) for f in xls_files]\n",
    "    all_xls_files += xls_files\n",
    "\n",
    "\n",
    "for xf in all_xls_files:\n",
    "    print xf"
   ]
  },
  {
   "cell_type": "markdown",
   "metadata": {},
   "source": [
    "## Util to process single source file"
   ]
  },
  {
   "cell_type": "code",
   "execution_count": 6,
   "metadata": {
    "collapsed": true
   },
   "outputs": [],
   "source": [
    "import pandas as pd\n",
    "import numpy as np"
   ]
  },
  {
   "cell_type": "code",
   "execution_count": 25,
   "metadata": {
    "collapsed": false
   },
   "outputs": [
    {
     "name": "stdout",
     "output_type": "stream",
     "text": [
      "\n"
     ]
    }
   ],
   "source": [
    "\n",
    "def conv_rename_and_move(source_full_path, dest_dir):\n",
    "    \"\"\"\n",
    "    Uses pandas to load xlsx and write to csv\n",
    "    \"\"\"\n",
    "    \n",
    "    # SOURCE\n",
    "    source_file_name = source_full_path.split('/')[-1]\n",
    "    \n",
    "    # debug\n",
    "    print \"Processing file {} ... \".format(source_file_name), \n",
    "    \n",
    "    # DESTINATION\n",
    "    # make lower case, remove spaces, change extension\n",
    "    dest_file_name = source_file_name.lower().replace(' ', '_').replace('.xlsx', '.csv')\n",
    "    dest_full_path = os.path.join(dest_dir, dest_file_name)\n",
    "        \n",
    "    # do\n",
    "    df = pd.read_excel(source_full_path)\n",
    "    df.to_csv(dest_full_path, encoding='utf-8')\n",
    "    \n",
    "    print \"--> {}\".format(dest_full_path)\n",
    "    \n",
    "    return len(df)\n",
    "        "
   ]
  },
  {
   "cell_type": "raw",
   "metadata": {
    "collapsed": false
   },
   "source": [
    "# Test on single file\n",
    "conv_rename_and_move(all_xls_files[3], dest_dir=dest_dir)"
   ]
  },
  {
   "cell_type": "markdown",
   "metadata": {},
   "source": [
    "# DO: Process all the files"
   ]
  },
  {
   "cell_type": "code",
   "execution_count": 26,
   "metadata": {
    "collapsed": false
   },
   "outputs": [
    {
     "name": "stdout",
     "output_type": "stream",
     "text": [
      "Processing file FSP_Final_Kenya_W3 (public).xlsx ...  --> ../data/fii_csv/fsp_final_kenya_w3_(public).csv\n",
      "Processing file FSP_Final_Indonesia_W2 (public).xlsx ...  --> ../data/fii_csv/fsp_final_indonesia_w2_(public).csv\n",
      "Processing file FSP_Final_Tanzania_W3 (public).xlsx ...  --> ../data/fii_csv/fsp_final_tanzania_w3_(public).csv\n",
      "Processing file FSP_Final_Bangladesh_W3 (public).xlsx ...  --> ../data/fii_csv/fsp_final_bangladesh_w3_(public).csv\n",
      "Processing file FSP_Final_India_W3 (public).xlsx ...  --> ../data/fii_csv/fsp_final_india_w3_(public).csv\n",
      "Processing file FSP_Final_Pakistan_W3 (public).xlsx ...  --> ../data/fii_csv/fsp_final_pakistan_w3_(public).csv\n",
      "Processing file FSP_Final_Uganda_W3 (public).xlsx ...  --> ../data/fii_csv/fsp_final_uganda_w3_(public).csv\n",
      "Processing file FSP_Final_Nigeria_W3 (public).xlsx ...  --> ../data/fii_csv/fsp_final_nigeria_w3_(public).csv\n",
      "Processing file FSP_Final_Tanzania_w2_12182014(public).xlsx ...  --> ../data/fii_csv/fsp_final_tanzania_w2_12182014(public).csv\n",
      "Processing file FSP_Final_Uganda_W2_10312015(public).xlsx ...  --> ../data/fii_csv/fsp_final_uganda_w2_10312015(public).csv\n",
      "Processing file FSP_Final_India_w2_02242015 (public).xlsx ...  --> ../data/fii_csv/fsp_final_india_w2_02242015_(public).csv\n",
      "Processing file FSP_Final_Nigeria_w2_11182014(public).xlsx ...  --> ../data/fii_csv/fsp_final_nigeria_w2_11182014(public).csv\n",
      "Processing file FSP_Final_Kenya_w2_12092014(public).xlsx ...  --> ../data/fii_csv/fsp_final_kenya_w2_12092014(public).csv\n",
      "Processing file FSP_Final_Bangladesh_w2_10162014(public).xlsx ...  --> ../data/fii_csv/fsp_final_bangladesh_w2_10162014(public).csv\n",
      "Processing file FSP_Final_Pakistan_W2_01072015(public).xlsx ...  --> ../data/fii_csv/fsp_final_pakistan_w2_01072015(public).csv\n",
      "Processing file Final_India-FII wave1_06-03-2014(Public).xlsx ...  --> ../data/fii_csv/final_india-fii_wave1_06-03-2014(public).csv\n",
      "Processing file Final_Uganda-FII-wave 1_7-8-2014(public).xlsx ...  --> ../data/fii_csv/final_uganda-fii-wave_1_7-8-2014(public).csv\n",
      "Processing file Final_Pakistan-FII-wave 1_06-03-2014(public).xlsx ...  --> ../data/fii_csv/final_pakistan-fii-wave_1_06-03-2014(public).csv\n",
      "Processing file Final_Bangladesh-FII-wave 1_06-03-2014(public).xlsx ...  --> ../data/fii_csv/final_bangladesh-fii-wave_1_06-03-2014(public).csv\n",
      "Processing file Final_Tanzania-FII-wave1_06-09-2014(public).xlsx ...  --> ../data/fii_csv/final_tanzania-fii-wave1_06-09-2014(public).csv\n",
      "Processing file Final_Kenya-FII WAVE 1_06-03-2014(public).xlsx ...  --> ../data/fii_csv/final_kenya-fii_wave_1_06-03-2014(public).csv\n",
      "Processing file Final_Nigeria-FII-wave 1-06-28-2014(public).xlsx ...  --> ../data/fii_csv/final_nigeria-fii-wave_1-06-28-2014(public).csv\n"
     ]
    }
   ],
   "source": [
    "for xls_file in all_xls_files: \n",
    "    conv_rename_and_move(xls_file,\n",
    "                         dest_dir=dest_dir)"
   ]
  },
  {
   "cell_type": "code",
   "execution_count": null,
   "metadata": {
    "collapsed": true
   },
   "outputs": [],
   "source": []
  },
  {
   "cell_type": "code",
   "execution_count": null,
   "metadata": {
    "collapsed": true
   },
   "outputs": [],
   "source": []
  },
  {
   "cell_type": "code",
   "execution_count": null,
   "metadata": {
    "collapsed": true
   },
   "outputs": [],
   "source": []
  }
 ],
 "metadata": {
  "kernelspec": {
   "display_name": "Python 2",
   "language": "python",
   "name": "python2"
  },
  "language_info": {
   "codemirror_mode": {
    "name": "ipython",
    "version": 2
   },
   "file_extension": ".py",
   "mimetype": "text/x-python",
   "name": "python",
   "nbconvert_exporter": "python",
   "pygments_lexer": "ipython2",
   "version": "2.7.12"
  }
 },
 "nbformat": 4,
 "nbformat_minor": 0
}
