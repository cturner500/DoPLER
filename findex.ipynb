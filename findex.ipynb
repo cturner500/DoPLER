{
 "cells": [
  {
   "cell_type": "code",
   "execution_count": 99,
   "metadata": {
    "collapsed": true
   },
   "outputs": [],
   "source": [
    "import ipywidgets"
   ]
  },
  {
   "cell_type": "code",
   "execution_count": 50,
   "metadata": {
    "collapsed": false
   },
   "outputs": [
    {
     "name": "stderr",
     "output_type": "stream",
     "text": [
      "/home/aman/anaconda/lib/python2.7/site-packages/matplotlib/__init__.py:872: UserWarning: axes.color_cycle is deprecated and replaced with axes.prop_cycle; please use the latter.\n",
      "  warnings.warn(self.msg_depr % (key, alt_key))\n"
     ]
    }
   ],
   "source": [
    "%matplotlib inline\n",
    "import matplotlib.pyplot as plt\n",
    "import seaborn"
   ]
  },
  {
   "cell_type": "code",
   "execution_count": 70,
   "metadata": {
    "collapsed": true
   },
   "outputs": [],
   "source": [
    "import os\n",
    "import sys\n",
    "import pandas as pd\n",
    "import numpy as np\n",
    "\n",
    "data_dir = 'Data/findex_csv/'"
   ]
  },
  {
   "cell_type": "code",
   "execution_count": 2,
   "metadata": {
    "collapsed": false
   },
   "outputs": [
    {
     "data": {
      "text/plain": [
       "['UGA_2014_FINDEX_v01_M_EXCEL_micro_uga_varlabel.csv',\n",
       " 'KEN_2014_FINDEX_v01_M_EXCEL_micro_ken_varname.csv',\n",
       " 'TZA_2014_FINDEX_v01_M_EXCEL_micro_tza_varname.csv',\n",
       " 'KEN_2014_FINDEX_v01_M_EXCEL_micro_ken_varlabel.csv',\n",
       " 'UGA_2014_FINDEX_v01_M_EXCEL_micro_uga_varname.csv',\n",
       " 'TZA_2014_FINDEX_v01_M_EXCEL_micro_tza_varlabel.csv']"
      ]
     },
     "execution_count": 2,
     "metadata": {},
     "output_type": "execute_result"
    }
   ],
   "source": [
    "os.listdir(data_dir)"
   ]
  },
  {
   "cell_type": "code",
   "execution_count": 3,
   "metadata": {
    "collapsed": true
   },
   "outputs": [],
   "source": [
    "findex_uga_files = [f for f in os.listdir(data_dir) if 'UGA' in f]"
   ]
  },
  {
   "cell_type": "code",
   "execution_count": 8,
   "metadata": {
    "collapsed": false
   },
   "outputs": [
    {
     "data": {
      "text/plain": [
       "1000"
      ]
     },
     "execution_count": 8,
     "metadata": {},
     "output_type": "execute_result"
    }
   ],
   "source": [
    "len(pd.read_csv(os.path.join(data_dir, findex_uga_files[0])))"
   ]
  },
  {
   "cell_type": "code",
   "execution_count": 30,
   "metadata": {
    "collapsed": false
   },
   "outputs": [],
   "source": [
    "keep_files = [f for f in os.listdir(data_dir) if 'varlabel' in f]\n",
    "df = pd.concat([pd.read_csv(os.path.join(data_dir, f))for f in keep_files])"
   ]
  },
  {
   "cell_type": "code",
   "execution_count": 31,
   "metadata": {
    "collapsed": false
   },
   "outputs": [
    {
     "data": {
      "text/plain": [
       "3008"
      ]
     },
     "execution_count": 31,
     "metadata": {},
     "output_type": "execute_result"
    }
   ],
   "source": [
    "len(df)"
   ]
  },
  {
   "cell_type": "code",
   "execution_count": 32,
   "metadata": {
    "collapsed": false
   },
   "outputs": [
    {
     "data": {
      "text/plain": [
       "array(['Uganda', 'Kenya', 'Tanzania'], dtype=object)"
      ]
     },
     "execution_count": 32,
     "metadata": {},
     "output_type": "execute_result"
    }
   ],
   "source": [
    "df.Economy.unique()"
   ]
  },
  {
   "cell_type": "code",
   "execution_count": 33,
   "metadata": {
    "collapsed": false
   },
   "outputs": [
    {
     "data": {
      "text/plain": [
       "3008"
      ]
     },
     "execution_count": 33,
     "metadata": {},
     "output_type": "execute_result"
    }
   ],
   "source": [
    "df.Economy.dropna().count()"
   ]
  },
  {
   "cell_type": "code",
   "execution_count": 98,
   "metadata": {
    "collapsed": false
   },
   "outputs": [
    {
     "name": "stdout",
     "output_type": "stream",
     "text": [
      "Economy : ['Uganda' 'Kenya' 'Tanzania']\n",
      "Economy Code : ['UGA' 'KEN' 'TZA']\n",
      "Gallup World Poll identifier : [113512727 163459263 177743154]\n",
      "Weight : [ 0.40267837  0.28248153  0.4237223 ]\n",
      "Respondent is female : ['2 female' '1 male']\n",
      "Respondent age : ['24' '48' '34']\n",
      "Respondent education level : ['secondary' 'completed tertiary or more' 'completed primary or less']\n",
      "Within-economy household income quintile : ['5 richest 20%' '1 poorest 20%' '4 fourth 20%']\n",
      "Has an account : ['yes' 'no']\n",
      "Has an account at a financial institution : ['yes' 'no']\n",
      "Has a mobile money account : ['yes' 'no']\n",
      "Has a debit card : ['yes' 'no' '(dk)']\n",
      "If has debit card: card in own name : ['yes' nan 'no']\n",
      "If has debit card: used card in past 12 months : ['no' nan 'yes']\n",
      "Has a credit card : ['no' 'yes' '(dk)']\n",
      "If has credit card: used card in past 12 months : [nan 'yes' 'no']\n",
      "If does not have account: b/c too far away : [nan 'no' 'yes']\n",
      "If does not have account: b/c too expensive : [nan 'no' 'yes']\n",
      "If does not have account: b/c lack documentation : [nan 'no' 'yes']\n",
      "If does not have account: b/c lack trust : [nan 'no' 'yes']\n",
      "If does not have account: b/c religious reasons : [nan 'no' 'yes']\n",
      "If does not have account: b/c lack of money : [nan 'yes' 'no']\n",
      "If does not have account: b/c family member already has one : [nan 'no' 'yes']\n",
      "If does not have account: b/c cannot get one : [nan 'no' 'yes']\n",
      "If does not have account: b/c no need for financial services : [nan 'yes' 'no']\n",
      "If has account: any deposit into account in past 12 months : ['yes' nan 'no']\n",
      "If has any deposit into account: number of monthly deposits : ['1 one or two times per month' '2 three\\xc2\\xa0or more times per month'\n",
      " '3 money is not deposited in a typical month']\n",
      "If has account: any withdrawal from account in past 12 months : ['yes' nan 'no']\n",
      "If has any withdrawal from account: number of monthly withdrawals : ['1 one or two times per month' '2 three\\xc2\\xa0or more times per month'\n",
      " '3 money is not taken out in a typical month']\n",
      "If has account: most frequent mode of cash withdrawal : ['1 you get it at an atm'\n",
      " '2 you get it over the counter in a branch of your financial institution'\n",
      " nan]\n",
      "If has account: made a transaction using a mobile phone : ['yes' 'no' nan]\n",
      "Made payments online using the Internet : ['no' 'yes' '(dk)']\n",
      "Saved in past 12 months: for farm/business purposes : ['yes' 'no' '(dk)']\n",
      "Saved in past 12 months: for old age : ['no' 'yes' '(dk)']\n",
      "Saved in past 12 months: for education or school fees : ['no' 'yes' '(dk)']\n",
      "Saved in past 12 months: using an account at a financial institution : ['yes' 'no' '(dk)']\n",
      "Saved in past 12 months: using an informal savings club : ['no' 'yes' '(dk)']\n",
      "Has loan from a financial institution for house, apartment, or land : ['no' 'yes' '(dk)']\n",
      "Borrowed in past 12 months: from a financial institution : ['no' 'yes' '(dk)']\n",
      "Borrowed in past 12 months: from a store (store credit) : ['yes' 'no' '(dk)']\n",
      "Borrowed in past 12 months: from family or friends : ['yes' 'no' '(ref)']\n",
      "Borrowed in past 12 months: from another private lender : ['no' 'yes' '(dk)']\n",
      "Borrowed in past 12 months: for education or school fees : ['no' 'yes' '(ref)']\n",
      "Borrowed in past 12 months: for medical purposes : ['no' 'yes' '(ref)']\n",
      "Borrowed in past 12 months: for farm/business purposes : ['yes' 'no' '(dk)']\n",
      "Possibility of coming up with emergency funds : ['1 very possible' '2 somewhat possible' '3 not very possible']\n",
      "If able to come up with emergency funds: main source : ['3 money from working or a loan from an employer'\n",
      " '2 family, relatives, or friends' '1 savings']\n",
      "Sent domestic remittances in past 12 months : ['yes' 'no' '(dk)']\n",
      "If sent domestic remittances: in cash : ['yes' 'no' nan]\n",
      "If sent domestic remittances: through a financial institution : ['no' 'yes' nan]\n",
      "If sent domestic remittances: through a mobile phone : ['yes' nan 'no']\n",
      "If sent domestic remittances: through an MTO : ['no' 'yes' nan]\n",
      "Received domestic remittances in past 12 months : ['yes' 'no' '(ref)']\n",
      "If received domestic remittances: in cash : ['no' 'yes' nan]\n",
      "If received domestic remittances: through a financial institution : ['no' 'yes' nan]\n",
      "If received domestic remittances: through a mobile phone : ['yes' nan 'no']\n",
      "If received domestic remittances: through an MTO : ['yes' 'no' nan]\n",
      "Paid utility bills in past 12 months : ['yes' 'no' '(dk)']\n",
      "If paid utility bills: in cash : ['no' 'yes' nan]\n",
      "If paid utility bills: using an account : ['no' 'yes' nan]\n",
      "If paid utility bills: through a mobile phone : ['yes' nan 'no']\n",
      "Paid school fees in past 12 months : ['no' 'yes' '(ref)']\n",
      "If paid school fees: in cash : [nan 'yes' 'no']\n",
      "If paid school fees: using an account : [nan 'yes' 'no']\n",
      "If paid school fees: through a mobile phone : [nan 'no' 'yes']\n",
      "Received wage payments in past 12 months : ['no' 'yes' '(dk)']\n",
      "If received wage payments: work in public sector : [nan 'yes' 'no']\n",
      "If received wage payments: in cash : [nan 'no' 'yes']\n",
      "If received wage payments: into an account or to a card : [nan 'yes' 'no']\n",
      "If received wage payments: through a mobile phone : [nan 'no' 'yes']\n",
      "If received cashless wage payments: account use : [nan '2 over time as needed' '1 all of the money right away']\n",
      "If received cashless wage payments: account type : [nan\n",
      " '1 you had this account before you began receiving payments from an employer.'\n",
      " '2 you had an account before, but this account was opened so you could receive payments from an employer.']\n",
      "Received government transfers in past 12 months : ['no' 'yes' '(dk)']\n",
      "If received government transfers: in cash : [nan 'no' 'yes']\n",
      "If received government transfers: into an account or to a card : [nan 'no' 'yes']\n",
      "If received government transfers: through a mobile phone : [nan 'no' 'yes']\n",
      "If received cashless government transfers: account use : [nan '3 (dk)' '2 over time as needed']\n",
      "If received cashless government transfers: account type : [nan '4 (dk)'\n",
      " '1 you had this account before you began receiving payments from the government.']\n",
      "Received agricultural payments in past 12 months : ['yes' 'no' '(ref)']\n",
      "If received agricultural payments: in cash : ['yes' nan 'no']\n",
      "If received agricultural payments: into an account : ['no' nan 'yes']\n",
      "If received agricultural payments: through a mobile phone : ['yes' nan 'no']\n",
      "Saved in the past year : ['yes' 'no']\n",
      "Borrowed in the past year : ['yes' 'no']\n"
     ]
    },
    {
     "name": "stderr",
     "output_type": "stream",
     "text": [
      "/home/aman/anaconda/lib/python2.7/site-packages/ipykernel/__main__.py:6: FutureWarning: elementwise comparison failed; returning scalar instead, but in the future will perform elementwise comparison\n"
     ]
    }
   ],
   "source": [
    "# all columns\n",
    "\n",
    "yesnocols = []\n",
    "for c in df.columns.tolist():\n",
    "    uniques = df[c].unique()\n",
    "    if 'yes' in uniques: \n",
    "        yesnocols.append(c)\n",
    "    print \"{} : {}\".format(c, uniques[:3])"
   ]
  },
  {
   "cell_type": "code",
   "execution_count": 109,
   "metadata": {
    "collapsed": false
   },
   "outputs": [
    {
     "name": "stdout",
     "output_type": "stream",
     "text": [
      "['Economy', 'Economy Code', 'Gallup World Poll identifier', 'Weight', 'Respondent is female', 'Respondent age', 'Respondent education level', 'Within-economy household income quintile', 'Has an account', 'Has an account at a financial institution', 'Has a mobile money account', 'Has a debit card', 'Has a credit card', 'Made payments online using the Internet', 'Has loan from a financial institution for house, apartment, or land', 'Possibility of coming up with emergency funds', 'Sent domestic remittances in past 12 months', 'Received domestic remittances in past 12 months', 'Paid utility bills in past 12 months', 'Paid school fees in past 12 months', 'Received wage payments in past 12 months', 'Received government transfers in past 12 months', 'Received agricultural payments in past 12 months', 'Saved in the past year', 'Borrowed in the past year']\n"
     ]
    }
   ],
   "source": [
    "# all columns excluding contingency columns\n",
    "# (of the type \"if X: Y\")\n",
    "notcontingentcols = [c for c in df.columns.tolist() if not \": \" in c]\n",
    "print notcontingentcols"
   ]
  },
  {
   "cell_type": "code",
   "execution_count": 199,
   "metadata": {
    "collapsed": false
   },
   "outputs": [
    {
     "name": "stdout",
     "output_type": "stream",
     "text": [
      "Saved in the past year\n",
      "Total number: 2207 (73.37 %)\n"
     ]
    },
    {
     "data": {
      "image/png": "[encoded data removed]",
      "text/plain": [
       "<matplotlib.figure.Figure at 0x7f93bfaec710>"
      ]
     },
     "metadata": {},
     "output_type": "display_data"
    }
   ],
   "source": [
    "def myaggfunc(vals):\n",
    "    # vals is np.ndarray-like\n",
    "    \n",
    "    # 'yes' / 'no' --> bool\n",
    "    boolvals = vals == 'yes'\n",
    "    \n",
    "    return np.sum(boolvals)\n",
    "    \n",
    "#@ipywidgets.interact\n",
    "def plot_by_country(col):\n",
    "\n",
    "    mask = df[col] == 'yes'\n",
    "\n",
    "    print \"{}\".format(col)\n",
    "    print \"Total number: {} ({:0.02f} %)\".format(\n",
    "        mask.sum(),\n",
    "        float(mask.sum()) / len(df) * 100,\n",
    "    )\n",
    "\n",
    "    # breakdown by country\n",
    "\n",
    "    ax = df\\\n",
    "        .pivot_table(values=col, columns='Economy', aggfunc=myaggfunc, )\\\n",
    "        .plot(kind='barh', title=col, alpha=0.5)\n",
    "    ax.set_xlim(0,1000)\n",
    "    ax.set_ylabel('')\n",
    "    ax.set_xlabel('number of respondents')\n",
    "    #return ax\n",
    "\n",
    "select_cols = set(yesnocols).intersection(notcontingentcols)\n",
    "s = ipywidgets.Select()\n",
    "s.options = sorted(list(select_cols))\n",
    "\n",
    "s.value='Borrowed in the past year'\n",
    "\n",
    "tt = ipywidgets.interact(plot_by_country, \n",
    "                   col=s)\n",
    "plt.show()"
   ]
  },
  {
   "cell_type": "code",
   "execution_count": 196,
   "metadata": {
    "collapsed": false
   },
   "outputs": [
    {
     "data": {
      "text/plain": [
       "{'Borrowed in the past year',\n",
       " 'Has a credit card',\n",
       " 'Has a debit card',\n",
       " 'Has a mobile money account',\n",
       " 'Has an account',\n",
       " 'Has an account at a financial institution',\n",
       " 'Has loan from a financial institution for house, apartment, or land',\n",
       " 'Made payments online using the Internet',\n",
       " 'Paid school fees in past 12 months',\n",
       " 'Paid utility bills in past 12 months',\n",
       " 'Received agricultural payments in past 12 months',\n",
       " 'Received domestic remittances in past 12 months',\n",
       " 'Received government transfers in past 12 months',\n",
       " 'Received wage payments in past 12 months',\n",
       " 'Saved in the past year',\n",
       " 'Sent domestic remittances in past 12 months'}"
      ]
     },
     "execution_count": 196,
     "metadata": {},
     "output_type": "execute_result"
    }
   ],
   "source": [
    "select_cols"
   ]
  },
  {
   "cell_type": "markdown",
   "metadata": {},
   "source": [
    "## Scrapbook"
   ]
  },
  {
   "cell_type": "code",
   "execution_count": 59,
   "metadata": {
    "collapsed": false
   },
   "outputs": [
    {
     "name": "stdout",
     "output_type": "stream",
     "text": [
      "Borrowed in the past year\n",
      "Total number: 2181 (72.51 %)\n"
     ]
    }
   ],
   "source": [
    "# Respondents that borrowed in the past year\n",
    "col = s.value\n",
    "mask = df[col] == 'yes'\n",
    "\n",
    "print \"{}\".format(col)\n",
    "print \"Total number: {} ({:0.02f} %)\".format(\n",
    "    mask.sum(),\n",
    "    float(mask.sum()) / len(df) * 100,\n",
    ")\n",
    "\n",
    "#print \"\n",
    "\n",
    "# break down by country"
   ]
  },
  {
   "cell_type": "code",
   "execution_count": 67,
   "metadata": {
    "collapsed": true
   },
   "outputs": [],
   "source": [
    "df.pivot_table?"
   ]
  },
  {
   "cell_type": "code",
   "execution_count": 93,
   "metadata": {
    "collapsed": false
   },
   "outputs": [
    {
     "data": {
      "image/png": "[encoded data removed]",
      "text/plain": [
       "<matplotlib.figure.Figure at 0x7f93bfa62ed0>"
      ]
     },
     "metadata": {},
     "output_type": "display_data"
    }
   ],
   "source": [
    "# breakdown by country\n",
    "def myaggfunc(vals):\n",
    "    # vals is np.ndarray-like\n",
    "    \n",
    "    # 'yes' / 'no' --> bool\n",
    "    boolvals = vals == 'yes'\n",
    "    \n",
    "    return np.sum(boolvals)\n",
    "    \n",
    "ax = df\\\n",
    "    .pivot_table(values=col, columns='Economy', aggfunc=myaggfunc, )\\\n",
    "    .plot(kind='barh', title=col, alpha=0.5)\n",
    "ax."
   ]
  },
  {
   "cell_type": "code",
   "execution_count": 88,
   "metadata": {
    "collapsed": false
   },
   "outputs": [
    {
     "data": {
      "text/plain": [
       "Economy\n",
       "Kenya       801\n",
       "Tanzania    583\n",
       "Uganda      797\n",
       "Name: Borrowed in the past year, dtype: int64"
      ]
     },
     "execution_count": 88,
     "metadata": {},
     "output_type": "execute_result"
    }
   ],
   "source": [
    "grp"
   ]
  },
  {
   "cell_type": "code",
   "execution_count": 83,
   "metadata": {
    "collapsed": false
   },
   "outputs": [],
   "source": [
    "tt = grp.values[0]"
   ]
  },
  {
   "cell_type": "code",
   "execution_count": 86,
   "metadata": {
    "collapsed": false
   },
   "outputs": [],
   "source": [
    "tt?"
   ]
  },
  {
   "cell_type": "code",
   "execution_count": 38,
   "metadata": {
    "collapsed": false
   },
   "outputs": [
    {
     "name": "stdout",
     "output_type": "stream",
     "text": [
      "['If has debit card: used card in past 12 months', 'If has credit card: used card in past 12 months', 'If has account: any deposit into account in past 12 months', 'If has any deposit into account: number of monthly deposits', 'If has account: any withdrawal from account in past 12 months', 'If has any withdrawal from account: number of monthly withdrawals', 'Saved in past 12 months: for farm/business purposes', 'Saved in past 12 months: for old age', 'Saved in past 12 months: for education or school fees', 'Saved in past 12 months: using an account at a financial institution', 'Saved in past 12 months: using an informal savings club', 'Borrowed in past 12 months: from a financial institution', 'Borrowed in past 12 months: from a store (store credit)', 'Borrowed in past 12 months: from family or friends', 'Borrowed in past 12 months: from another private lender', 'Borrowed in past 12 months: for education or school fees', 'Borrowed in past 12 months: for medical purposes', 'Borrowed in past 12 months: for farm/business purposes', 'Sent domestic remittances in past 12 months', 'Received domestic remittances in past 12 months', 'Paid utility bills in past 12 months', 'Paid school fees in past 12 months', 'Received wage payments in past 12 months', 'Received government transfers in past 12 months', 'Received agricultural payments in past 12 months']\n"
     ]
    }
   ],
   "source": [
    "print [c for c in df.columns if 'mont' in c.lower()]"
   ]
  },
  {
   "cell_type": "code",
   "execution_count": 39,
   "metadata": {
    "collapsed": false
   },
   "outputs": [
    {
     "name": "stdout",
     "output_type": "stream",
     "text": [
      "['If has debit card: used card in past 12 months', 'If has credit card: used card in past 12 months', 'If has account: any deposit into account in past 12 months', 'If has account: any withdrawal from account in past 12 months', 'Saved in past 12 months: for farm/business purposes', 'Saved in past 12 months: for old age', 'Saved in past 12 months: for education or school fees', 'Saved in past 12 months: using an account at a financial institution', 'Saved in past 12 months: using an informal savings club', 'Borrowed in past 12 months: from a financial institution', 'Borrowed in past 12 months: from a store (store credit)', 'Borrowed in past 12 months: from family or friends', 'Borrowed in past 12 months: from another private lender', 'Borrowed in past 12 months: for education or school fees', 'Borrowed in past 12 months: for medical purposes', 'Borrowed in past 12 months: for farm/business purposes', 'Sent domestic remittances in past 12 months', 'Received domestic remittances in past 12 months', 'Paid utility bills in past 12 months', 'Paid school fees in past 12 months', 'Received wage payments in past 12 months', 'Received government transfers in past 12 months', 'Received agricultural payments in past 12 months', 'Saved in the past year', 'Borrowed in the past year']\n"
     ]
    }
   ],
   "source": [
    "print [c for c in df.columns if 'past' in c.lower()]"
   ]
  },
  {
   "cell_type": "code",
   "execution_count": 40,
   "metadata": {
    "collapsed": false
   },
   "outputs": [
    {
     "name": "stdout",
     "output_type": "stream",
     "text": [
      "['Borrowed in past 12 months: from a financial institution', 'Borrowed in past 12 months: from a store (store credit)', 'Borrowed in past 12 months: from family or friends', 'Borrowed in past 12 months: from another private lender', 'Borrowed in past 12 months: for education or school fees', 'Borrowed in past 12 months: for medical purposes', 'Borrowed in past 12 months: for farm/business purposes', 'Borrowed in the past year']\n"
     ]
    }
   ],
   "source": [
    "print [c for c in df.columns if 'borrow' in c.lower()]"
   ]
  },
  {
   "cell_type": "code",
   "execution_count": 41,
   "metadata": {
    "collapsed": false
   },
   "outputs": [
    {
     "name": "stdout",
     "output_type": "stream",
     "text": [
      "['If has account: any deposit into account in past 12 months', 'If has any deposit into account: number of monthly deposits']\n"
     ]
    }
   ],
   "source": [
    "print [c for c in df.columns if 'deposit' in c.lower()]"
   ]
  },
  {
   "cell_type": "code",
   "execution_count": 42,
   "metadata": {
    "collapsed": false
   },
   "outputs": [
    {
     "name": "stdout",
     "output_type": "stream",
     "text": [
      "['If has account: any withdrawal from account in past 12 months', 'If has any withdrawal from account: number of monthly withdrawals', 'If has account: most frequent mode of cash withdrawal']\n"
     ]
    }
   ],
   "source": [
    "print [c for c in df.columns if 'withdr' in c.lower()]"
   ]
  },
  {
   "cell_type": "code",
   "execution_count": null,
   "metadata": {
    "collapsed": true
   },
   "outputs": [],
   "source": []
  }
 ],
 "metadata": {
  "kernelspec": {
   "display_name": "Python 2",
   "language": "python",
   "name": "python2"
  },
  "language_info": {
   "codemirror_mode": {
    "name": "ipython",
    "version": 2
   },
   "file_extension": ".py",
   "mimetype": "text/x-python",
   "name": "python",
   "nbconvert_exporter": "python",
   "pygments_lexer": "ipython2",
   "version": "2.7.12"
  }
 },
 "nbformat": 4,
 "nbformat_minor": 0
}
